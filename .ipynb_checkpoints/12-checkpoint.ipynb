{
 "cells": [
  {
   "cell_type": "markdown",
   "metadata": {},
   "source": [
    "# 確率ロボティクス2017第12回\n",
    "\n",
    "上田隆一\n",
    "\n",
    "2017年12月6日@千葉工業大学\n",
    "\n",
    "## 今日やること\n",
    "\n",
    "* SLAMとは何か\n",
    "* FastSLAM"
   ]
  },
  {
   "cell_type": "markdown",
   "metadata": {},
   "source": [
    "## SLAM\n",
    "\n",
    "* SLAM（simultaneous localization and mapping）\n",
    "  * 自己位置推定と地図生成を同時に行う方法\n",
    " "
   ]
  },
  {
   "cell_type": "markdown",
   "metadata": {},
   "source": [
    "## SLAM問題\n",
    "\n",
    "* 次のような地図$m^*$とロボットの軌跡$x^*{0:t}$を求める問題\n",
    "  * $m^*,x^*_{0:t} = \\text{argmax}_m P(m,x_{0:t} |u_{1:t}, z_{1:t})$\n",
    "    * $x_{0:t}$: 行動のシーケンス$（x_0,x_1,x_2,...,x_t）$\n",
    "    * $u_{1:t}$: センサ情報のシーケンス$（u_1,u_2,u_3,...,u_t）$\n",
    "    * $z_{1:t}$: センサ情報のシーケンス$（z_1,z_2,z_3,...,z_t）$\n",
    "      * （面倒なのでベクトルも細字で書いてます） "
   ]
  },
  {
   "cell_type": "markdown",
   "metadata": {},
   "source": [
    "## SLAMの基本手続き\n",
    "\n",
    "* これで地図ができる （2次元の例, 距離センサを想定）\n",
    "  * 最初のロボットの位置$x_0$（絶対座標）を$ (x,y,\\theta) = (0,0,0)$とする\n",
    "  * 以下の繰り返し\n",
    "    * センサで障害物の位置を計測\n",
    "    * 障害物の位置を絶対座標に変換して記録\n",
    "    * ロボットを動かしてロボットの座標を更新\n",
    "* 問題\n",
    "  * 移動誤差、センサの雑音\n"
   ]
  },
  {
   "cell_type": "markdown",
   "metadata": {},
   "source": [
    "## 確率を使わない実装\n",
    "\n",
    "* 日経Linux 2015年11月号の上田の記事より\n",
    "\n",
    "<img width=\"300\" src=\"env.png\" />\n",
    "<img width=\"300\" src=\"map-300x300.png\" />"
   ]
  },
  {
   "cell_type": "markdown",
   "metadata": {},
   "source": [
    "## 誤差への対応\n",
    "\n",
    "* ベイズフィルタ\n",
    "  * 主にオンラインSLAMで利用される\n",
    "* 最小二乗法\n",
    "  * 主にオフラインSLAMで利用される\n",
    "* オンライン/オフライン\n",
    "  * オンライン: ロボットが自己位置と地図を動いている途中に特定していく\n",
    "  * オフライン: デッドレコニングとセンサ情報を全て記録しておいて後から地図と移動軌跡を特定"
   ]
  },
  {
   "cell_type": "markdown",
   "metadata": {},
   "source": [
    "## FastSLAM\n",
    "\n",
    "* オンラインSLAMの代表的な手法\n",
    "* MCL + 地図の推定\n",
    "* 1.0と2.0がある\n",
    "  * 1.0をこれから実装\n",
    "    * MCLのコードをコピーしながら作っていきましょう"
   ]
  },
  {
   "cell_type": "markdown",
   "metadata": {},
   "source": [
    "### 地図のシミュレーション"
   ]
  },
  {
   "cell_type": "code",
   "execution_count": 1,
   "metadata": {
    "collapsed": true
   },
   "outputs": [],
   "source": [
    "%matplotlib inline\n",
    "import numpy as np\n",
    "from copy import copy\n",
    "import math, random\n",
    "import matplotlib.pyplot as plt                   #   for plotting data\n",
    "from matplotlib.patches import Ellipse      #  for drawing"
   ]
  },
  {
   "cell_type": "markdown",
   "metadata": {},
   "source": [
    "#### ランドマークのクラス\n",
    "\n",
    "* 変数\n",
    "  * ランドマークの位置（$\\boldsymbol{m}_i$）\n",
    "* メソッド\n",
    "  * 描画\n",
    "  * ロボット座標系でのランドマークの距離と方角を求める関数\n",
    "    * 距離: $\\sqrt{(x_m - x_r)^2 + (y_m - y_r)^2}$\n",
    "    * 方角: $\\text{atan2}(y_m - y_r,x_m - x_r) - \\theta_r$\n",
    "      * ただし\n",
    "        * ランドマークの位置: $\\boldsymbol{m}_i=(x_m,y_m)$\n",
    "        * ロボットの真の姿勢: $\\boldsymbol{x}=(x_r,y_r,\\theta_r)$\n",
    "   \n",
    "\n"
   ]
  },
  {
   "cell_type": "code",
   "execution_count": 2,
   "metadata": {
    "collapsed": true
   },
   "outputs": [],
   "source": [
    "class Landmark:\n",
    "    def __init__(self,x,y):\n",
    "        self.pos = np.array([[x],[y]])\n",
    "        \n",
    "    def draw(self):\n",
    "        plt.scatter(xs,ys,s=300,marker=\"*\",label=\"landmarks\",color=\"orange\")\n",
    "        \n",
    "    def relative_pos(self,pose):\n",
    "        x,y,theta = pose\n",
    "        lx,ly = self.pos[0][0],self.pos[1][0]\n",
    "        distance = math.sqrt((x -lx)**2 + (y-ly)**2)\n",
    "        direction = math.atan2(ly-y, lx-x) - theta\n",
    "    \n",
    "        return (distance, direction,lx,ly) #lx, lyを返すのは描画のため"
   ]
  },
  {
   "cell_type": "markdown",
   "metadata": {},
   "source": [
    "#### 地図のクラス\n",
    "\n",
    "地図 = 複数のランドマークの座標の集合と考える\n",
    "\n",
    "$\\boldsymbol{m} = \\{\\boldsymbol{m}_i | i=1,2,3,\\dots,M\\}$\n",
    "\n",
    "* 変数\n",
    "  * Landmarkのリスト\n",
    "* メソッド\n",
    "  * ランドマークの座標の追加\n",
    "  * 描画\n",
    "  * ロボット座標系での複数のランドマークの位置（極座標）を返す関数"
   ]
  },
  {
   "cell_type": "code",
   "execution_count": 3,
   "metadata": {
    "collapsed": true
   },
   "outputs": [],
   "source": [
    "class Map():\n",
    "    def __init__(self):\n",
    "        self.landmarks = []\n",
    "        \n",
    "    def append_landmark(self,x,y):\n",
    "        self.landmarks.append(Landmark(x,y))\n",
    "        \n",
    "    def draw(self):\n",
    "        xs = [ e.pos[0] for e in self.landmarks]\n",
    "        ys = [ e.pos[1] for e in self.landmarks]\n",
    "        plt.scatter(xs,ys,s=300,marker=\"*\",label=\"landmarks\",color=\"orange\")\n",
    "        \n",
    "    def relative_landmark_positions(self,pose):\n",
    "        positions = []\n",
    "        for i,ln in enumerate(self.landmarks):\n",
    "            distance,direction,lx,ly = ln.relative_pos(pose)\n",
    "            positions.append([distance,direction,lx,ly,i])\n",
    "        \n",
    "        return positions\n",
    "    "
   ]
  },
  {
   "cell_type": "markdown",
   "metadata": {},
   "source": [
    "#### 正解の地図$\\boldsymbol{m}^*$を作る"
   ]
  },
  {
   "cell_type": "code",
   "execution_count": 4,
   "metadata": {},
   "outputs": [
    {
     "data": {
      "image/png": "[encoded data removed]",
      "text/plain": [
       "<matplotlib.figure.Figure at 0x113c63828>"
      ]
     },
     "metadata": {},
     "output_type": "display_data"
    }
   ],
   "source": [
    "m = Map()\n",
    "m.append_landmark(-0.5,0.0)\n",
    "m.append_landmark(0.5,0.0)\n",
    "m.append_landmark(0.0,0.5)\n",
    "\n",
    "m.draw()"
   ]
  },
  {
   "cell_type": "markdown",
   "metadata": {},
   "source": [
    "### ロボットのシミュレーション\n",
    "\n",
    "#### ロボットのクラス\n",
    "\n",
    "* 変数\n",
    "  * 姿勢\n",
    "* メソッド\n",
    "  * 描画\n",
    "  * 観測\n",
    "    * ロボット座標系での正確な座標を引数でとって雑音を混ぜて返す\n",
    "      * 観測した方向に距離の10%のノイズ\n",
    "      * 観測した方向と垂直な方向に$距離\\times\\sin(5[\\text{deg}])$のノイズ\n",
    "    * SLAMに使われる変数\n",
    "      * グローバル座標系での位置$\\boldsymbol{z} = (x_z,y_z)$\n",
    "      * $\\boldsymbol{z}$の共分散行列$Q$\n",
    "        * $Q$はノイズから計算される\n",
    "  * 状態遷移関数\n",
    "    * ロボットの移動後の座標を雑音付きで返す\n",
    "      * MCLの実装を参考のこと"
   ]
  },
  {
   "cell_type": "code",
   "execution_count": 5,
   "metadata": {
    "collapsed": true
   },
   "outputs": [],
   "source": [
    "class Robot:\n",
    "    def __init__(self,pose):\n",
    "        self.pose = pose\n",
    "        \n",
    "    def draw(self):\n",
    "        x,y,theta = self.pose\n",
    "        plt.quiver([x],[y],[math.cos(theta)],[math.sin(theta)],color=\"red\",label=\"actual robot motion\")\n",
    "        \n",
    "    def observation(self,m):\n",
    "        measurements = m.relative_landmark_positions(self.pose)\n",
    "        observations = []\n",
    "        \n",
    "        for m in measurements:\n",
    "            distance, direction,lx,ly, i = m\n",
    "            # 方向の制限（cosの値が正）\n",
    "            if (math.cos(direction) < 0.0): continue\n",
    "    \n",
    "            measured_distance = random.gauss(distance,distance*0.1)  \n",
    "            measured_direction = random.gauss(direction,5.0/180.0*math.pi)\n",
    "            observations.append([measured_distance, measured_direction,lx,ly,i])  \n",
    "        \n",
    "        return observations\n",
    "    \n",
    "    def motion_model(self, pos, fw, rot):\n",
    "        actual_fw = random.gauss(fw,fw/10)    #標準偏差にしてfwの10%だけ移動距離に雑音を入れる\n",
    "        dir_error = random.gauss(0.0, math.pi / 180.0 * 3.0) # 前進時にロボットの進路が曲がる雑音。標準偏差3[deg] \n",
    "\n",
    "        px, py, pt = pos\n",
    "\n",
    "        #前進させる\n",
    "        x = px + actual_fw * math.cos(pt + dir_error)\n",
    "        y = py + actual_fw * math.sin(pt + dir_error)\n",
    "\n",
    "        #回転。回転角にもrotの10%だけ雑音を入れる\n",
    "        t = pt + dir_error + random.gauss(rot,rot/10)\n",
    "\n",
    "        return np.array([x,y,t])"
   ]
  },
  {
   "cell_type": "markdown",
   "metadata": {},
   "source": [
    "#### ロボットを環境に置いてみましょう"
   ]
  },
  {
   "cell_type": "code",
   "execution_count": 6,
   "metadata": {},
   "outputs": [
    {
     "data": {
      "image/png": "[encoded data removed]",
      "text/plain": [
       "<matplotlib.figure.Figure at 0x10dceb908>"
      ]
     },
     "metadata": {},
     "output_type": "display_data"
    }
   ],
   "source": [
    "robot = Robot(np.array([0.1,0.2,math.pi*20.0/180]) )\n",
    "robot.draw()\n",
    "m.draw()"
   ]
  },
  {
   "cell_type": "markdown",
   "metadata": {},
   "source": [
    "#### ロボットとランドマークの位置関係、観測についてデバッグ\n",
    "\n",
    "と言ってもデバッグするのもコードが多くて大変ですが・・・"
   ]
  },
  {
   "cell_type": "code",
   "execution_count": 7,
   "metadata": {},
   "outputs": [
    {
     "name": "stdout",
     "output_type": "stream",
     "text": [
      "[[0.505237440779485, -0.78127704895653161, 0.5, 0.0, 1], [0.3392016081488198, 1.5597635867009896, 0.0, 0.5, 2]]\n"
     ]
    },
    {
     "data": {
      "image/png": "[encoded data removed]",
      "text/plain": [
       "<matplotlib.figure.Figure at 0x1174216a0>"
      ]
     },
     "metadata": {},
     "output_type": "display_data"
    }
   ],
   "source": [
    "### ここの区画のコードは消去してもSLAMが動きます ###\n",
    "observations = robot.observation(m)\n",
    "print(observations)\n",
    "\n",
    "fig = plt.figure(0,figsize=(8, 8))\n",
    "sp = fig.add_subplot(111, aspect='equal')\n",
    "sp.set_xlim(-1.0,1.0)\n",
    "sp.set_ylim(-0.5,1.5)\n",
    "    \n",
    "for observation in observations:\n",
    "    x,y,theta = robot.pose\n",
    "    distance, direction,lx,ly, i = observation\n",
    "    lx = distance*math.cos(theta + direction) + x\n",
    "    ly = distance*math.sin(theta + direction) + y\n",
    "    plt.plot([robot.pose[0],  lx],[robot.pose[1],  ly],color=\"pink\")\n",
    "    \n",
    "    c = math.cos(theta + direction)\n",
    "    s = math.sin(theta + direction)\n",
    "    rot = np.array([[c, -s],\n",
    "                    [s,  c]])\n",
    "    \n",
    "    err_robot = np.array([[(distance*0.1)**2,0.0],\n",
    "              [0.0,(distance*math.sin(5.0/180.0*math.pi))**2]])\n",
    "    err_world = (rot).dot(err_robot).dot((rot).T)\n",
    "    \n",
    "    eig_vals,eig_vec = np.linalg.eig(err_world)\n",
    "    v1 = eig_vals[0] * eig_vec[:,0]\n",
    "    v2 = eig_vals[1] * eig_vec[:,1]\n",
    "    v1_direction = math.atan2(v1[1],v1[0])\n",
    "    \n",
    "    elli = Ellipse([lx,ly],width=3*math.sqrt(np.linalg.norm(v1)),height=3*math.sqrt(np.linalg.norm(v2)),angle=v1_direction/3.14*180)\n",
    "    elli.set_alpha(0.2)\n",
    "    sp.add_artist(elli)\n",
    "    \n",
    "robot.draw()\n",
    "m.draw()"
   ]
  },
  {
   "cell_type": "markdown",
   "metadata": {},
   "source": [
    "### FastSLAMの実装\n",
    "\n",
    "#### ランドマークの推定結果の入れ物\n",
    "\n",
    "* ランドマークの位置$\\hat{\\boldsymbol{m}_i}$\n",
    "* 不確かさの共分散$\\Sigma_i$"
   ]
  },
  {
   "cell_type": "code",
   "execution_count": 8,
   "metadata": {
    "collapsed": true
   },
   "outputs": [],
   "source": [
    "class LandmarkEstimation():\n",
    "    def __init__(self):\n",
    "        self.pos = np.array([[0.0],[0.0]])\n",
    "        self.cov = np.array([[1000000000.0**2,0.0],\n",
    "                            [0.0,1000000000.0**2]])    #最初は大きな共分散を持たせておく"
   ]
  },
  {
   "cell_type": "markdown",
   "metadata": {},
   "source": [
    "#### パーティクル\n",
    "\n",
    "* 変数\n",
    "  * 重み\n",
    "  * ロボットの姿勢\n",
    "  * 地図\n",
    "* メソッド\n",
    "  * 動作をパーティクルに反映\n",
    "    * MCLと同じ\n",
    "  * 計測値をパーティクルに反映\n",
    "    * 重みの計算\n",
    "      * MCLと同じ\n",
    "    * 地図の更新\n",
    "      * $\\Sigma_i \\longleftarrow (\\Sigma_i^{-1} + Q_z^{-1})^{-1}$\n",
    "      * $K \\longleftarrow \\Sigma_i Q_z^{-1}$\n",
    "      * $\\hat{m_i} \\longleftarrow (1-K)\\hat{m_i} + K\\boldsymbol{z}$\n",
    "  * 描画"
   ]
  },
  {
   "cell_type": "code",
   "execution_count": 9,
   "metadata": {
    "collapsed": true
   },
   "outputs": [],
   "source": [
    "class Particle():\n",
    "    def __init__(self,pose,w):\n",
    "        self.w = w\n",
    "        self.pose = pose\n",
    "        self.map = [LandmarkEstimation(),LandmarkEstimation(),LandmarkEstimation()] #数は3で既知とする\n",
    "\n",
    "    def motion_update(self, fw, rot, robot):\n",
    "        self.pose = robot.motion_model(self.pose, fw, rot)\n",
    "        \n",
    "    def measurement_update(self, measurement):\n",
    "        x,y,theta = self.pose\n",
    "        distance, direction,lx,ly,i = measurement\n",
    "        ln = self.map[i]\n",
    "        lx = distance*math.cos(theta + direction) + x\n",
    "        ly = distance*math.sin(theta + direction) + y\n",
    "        ## 重みの更新\n",
    "        delta = np.array([[x],[y]]) - np.array([[lx],[ly]])\n",
    "        coef = 2*math.pi * math.sqrt(np.linalg.det(ln.cov))\n",
    "        inexp = -0.5 * (delta.T.dot(np.linalg.inv(ln.cov))).dot(delta)\n",
    "        self.w *= 1.0/coef * math.exp(inexp)\n",
    "        \n",
    "        ## 地図の書き換え\n",
    "        \n",
    "        z = np.array([[lx],[ly]])\n",
    "    \n",
    "        c = math.cos(theta + direction)\n",
    "        s = math.sin(theta + direction)\n",
    "        rot = np.array([[c, -s],\n",
    "                        [s,  c]])\n",
    "    \n",
    "        err_robot = np.array([[(distance*0.1)**2,0.0],\n",
    "                            [0.0,(distance*math.sin(5.0/180.0*math.pi))**2]])\n",
    "        err_world = (rot).dot(err_robot).dot((rot).T)       \n",
    "        \n",
    "        ln.cov = np.linalg.inv( np.linalg.inv(ln.cov) + np.linalg.inv(err_world) )\n",
    "        K = (ln.cov).dot(np.linalg.inv(err_world))\n",
    "        ln.pos += K.dot( z - ln.pos )\n",
    "        \n",
    "    def draw(self,i):\n",
    "        fig = plt.figure(i,figsize=(4, 4))\n",
    "        sp = fig.add_subplot(111, aspect='equal')\n",
    "        sp.set_xlim(-1.0,1.0)\n",
    "        sp.set_ylim(-0.5,1.5)\n",
    "        \n",
    "        m.draw()\n",
    "        x,y,theta = self.pose\n",
    "        plt.quiver([x],[y],[math.cos(theta)],[math.sin(theta)],color=\"red\",label=\"actual robot motion\")\n",
    "        \n",
    "        for e in self.map:\n",
    "            eigen = np.linalg.eig(e.cov)\n",
    "            v1 = eigen[0][0] * eigen[1][0]\n",
    "            v2 = eigen[0][1] * eigen[1][1]\n",
    "            v1_direction = math.atan2(v1[1],v1[0])\n",
    "\n",
    "            x,y = e.pos\n",
    "            elli = Ellipse([x,y],width=3*math.sqrt(np.linalg.norm(v1)),height=3*math.sqrt(np.linalg.norm(v2)),angle=v1_direction/3.14*180)\n",
    "            elli.set_alpha(0.5)\n",
    "        \n",
    "            sp.add_artist(elli)"
   ]
  },
  {
   "cell_type": "markdown",
   "metadata": {},
   "source": [
    "#### FastSLAMクラス\n",
    "\n",
    "* 変数\n",
    "  * パーティクル群\n",
    "* メソッド\n",
    "  * 動作をパーティクルに反映\n",
    "    * MCLと同じ\n",
    "  * 計測値をパーティクルに反映\n",
    "    * $P(\\boldsymbol{m},\\boldsymbol{x}|\\boldsymbol{z}) = \\eta P(\\boldsymbol{z}|\\boldsymbol{m},\\boldsymbol{x})P(\\boldsymbol{m},\\boldsymbol{x})$（ベイズの定理）\n",
    "      * この式が上の各パーティクルの処理に分解できる（Rao-Blackwellization）\n",
    "  * リサンプリング\n",
    "    * MCLと同じ"
   ]
  },
  {
   "cell_type": "code",
   "execution_count": 10,
   "metadata": {
    "collapsed": true
   },
   "outputs": [],
   "source": [
    "import copy\n",
    "        \n",
    "class FastSLAM():\n",
    "    def __init__(self,pose):\n",
    "        self.particles = [Particle(pose,1.0/100) for i in range(100)]\n",
    "        \n",
    "    def draw(self):\n",
    "        for (i,p) in enumerate(self.particles):\n",
    "            p.draw(i)\n",
    "            if i > 3: return  # たくさんあるパーティクルを全部描画すると大変なので3個だけ\n",
    "            \n",
    "    def motion_update(self, fw, rot, robot):\n",
    "        for p in self.particles:\n",
    "            p.motion_update(fw,rot, robot)\n",
    "            \n",
    "    def measurement_update(self, measurement):\n",
    "        for p in self.particles:\n",
    "            p.measurement_update(measurement)\n",
    "            \n",
    "        self.resampling()\n",
    "            \n",
    "    def resampling(self):\n",
    "        num = len(self.particles)                # numはパーティクルの個数\n",
    "        ws = [e.w for e in self.particles]    # 重みのリストを作る\n",
    "    \n",
    "        if sum(ws) < 1e-100:                     #重みの和がゼロに丸め込まれるとサンプリングできなくなるので小さな数を足しておく\n",
    "            ws = [e + 1e-100 for e in ws]\n",
    "            \n",
    "        ps = random.choices(self.particles, weights=ws, k=num)    # パーティクルのリストから、weightsのリストの重みに比例した確率で、num個選ぶ\n",
    "        self.particles = [copy.deepcopy(e) for e in ps]          # 選んだリストからパーティクルを取り出し、パーティクルの姿勢から重み1/numの新しいパーティクルを作成"
   ]
  },
  {
   "cell_type": "markdown",
   "metadata": {},
   "source": [
    "### 実行\n",
    "\n",
    "#### 初期状態\n",
    "\n",
    "各ランドマークの推定の共分散が大きく、位置が定まっていない状態。"
   ]
  },
  {
   "cell_type": "code",
   "execution_count": 11,
   "metadata": {},
   "outputs": [
    {
     "data": {
      "image/png": "[encoded data removed]",
      "text/plain": [
       "<matplotlib.figure.Figure at 0x11782d1d0>"
      ]
     },
     "metadata": {},
     "output_type": "display_data"
    },
    {
     "data": {
      "image/png": "[encoded data removed]",
      "text/plain": [
       "<matplotlib.figure.Figure at 0x117988a58>"
      ]
     },
     "metadata": {},
     "output_type": "display_data"
    },
    {
     "data": {
      "image/png": "[encoded data removed]",
      "text/plain": [
       "<matplotlib.figure.Figure at 0x117a09fd0>"
      ]
     },
     "metadata": {},
     "output_type": "display_data"
    },
    {
     "data": {
      "image/png": "[encoded data removed]",
      "text/plain": [
       "<matplotlib.figure.Figure at 0x117a7a4e0>"
      ]
     },
     "metadata": {},
     "output_type": "display_data"
    },
    {
     "data": {
      "image/png": "[encoded data removed]",
      "text/plain": [
       "<matplotlib.figure.Figure at 0x117b1f518>"
      ]
     },
     "metadata": {},
     "output_type": "display_data"
    }
   ],
   "source": [
    "robot.pose = np.array([0.0,0.0,0.0])   #ロボットの実際の姿勢\n",
    "slam = FastSLAM(robot.pose)\n",
    "slam.draw()\n",
    "\n",
    "### 青いのは画像からはみ出た誤差楕円の色です。 ###"
   ]
  },
  {
   "cell_type": "markdown",
   "metadata": {},
   "source": [
    "#### 30ステップ後のパーティクル\n",
    "\n",
    "原点が固定されていないので、推定された誤差楕円を平行、回転移動してどれくらい正確かを考えましょう。"
   ]
  },
  {
   "cell_type": "code",
   "execution_count": 12,
   "metadata": {},
   "outputs": [
    {
     "name": "stdout",
     "output_type": "stream",
     "text": [
      "30step後の地図\n"
     ]
    },
    {
     "data": {
      "image/png": "[encoded data removed]",
      "text/plain": [
       "<matplotlib.figure.Figure at 0x117afdbe0>"
      ]
     },
     "metadata": {},
     "output_type": "display_data"
    },
    {
     "data": {
      "image/png": "[encoded data removed]",
      "text/plain": [
       "<matplotlib.figure.Figure at 0x117b74978>"
      ]
     },
     "metadata": {},
     "output_type": "display_data"
    },
    {
     "data": {
      "image/png": "[encoded data removed]",
      "text/plain": [
       "<matplotlib.figure.Figure at 0x117571e48>"
      ]
     },
     "metadata": {},
     "output_type": "display_data"
    },
    {
     "data": {
      "image/png": "[encoded data removed]",
      "text/plain": [
       "<matplotlib.figure.Figure at 0x11741bb38>"
      ]
     },
     "metadata": {},
     "output_type": "display_data"
    },
    {
     "data": {
      "image/png": "[encoded data removed]",
      "text/plain": [
       "<matplotlib.figure.Figure at 0x1173c9ac8>"
      ]
     },
     "metadata": {},
     "output_type": "display_data"
    }
   ],
   "source": [
    "def one_step(m):\n",
    "    slam.motion_update(0.2, math.pi / 180.0 * 20, robot)\n",
    "    robot.pose = robot.motion_model(robot.pose, 0.2, math.pi / 180.0 * 20)\n",
    "    measurements = robot.observation(m)\n",
    "    for m in measurements:\n",
    "        slam.measurement_update(m)\n",
    "\n",
    "n = 30\n",
    "for i in range(n):\n",
    "    one_step(m)\n",
    "\n",
    "print(str(n) + \"step後の地図\")\n",
    "slam.draw()"
   ]
  },
  {
   "cell_type": "code",
   "execution_count": null,
   "metadata": {
    "collapsed": true
   },
   "outputs": [],
   "source": []
  }
 ],
 "metadata": {
  "kernelspec": {
   "display_name": "Python 3",
   "language": "python",
   "name": "python3"
  },
  "language_info": {
   "codemirror_mode": {
    "name": "ipython",
    "version": 3
   },
   "file_extension": ".py",
   "mimetype": "text/x-python",
   "name": "python",
   "nbconvert_exporter": "python",
   "pygments_lexer": "ipython3",
   "version": "3.6.1"
  }
 },
 "nbformat": 4,
 "nbformat_minor": 2
}
