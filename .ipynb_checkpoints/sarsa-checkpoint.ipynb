{
 "cells": [
  {
   "cell_type": "code",
   "execution_count": 1,
   "metadata": {},
   "outputs": [],
   "source": [
    "class Agent:\n",
    "    def __init__(self):\n",
    "        self.actions = [\"up\",\"down\",\"left\",\"right\"]\n",
    "        self.pos = (0,0)\n",
    "        \n",
    "agent = Agent()"
   ]
  },
  {
   "cell_type": "code",
   "execution_count": 2,
   "metadata": {},
   "outputs": [],
   "source": [
    "size = 3"
   ]
  },
  {
   "cell_type": "code",
   "execution_count": 3,
   "metadata": {},
   "outputs": [],
   "source": [
    "class State:\n",
    "    def __init__(self,actions):\n",
    "        self.Q = {}         # self.Q = {\"up\":0.0, \"down\":0.0, \"right\":0.0, \"left\":0,0}\n",
    "        for a in actions:\n",
    "            self.Q[a] = 0.0\n",
    "        self.best_action = \"up\"\n",
    "        self.goal = False\n",
    "\n",
    "states = [[State(agent.actions) for i in range(size)] for j in range(size)]\n",
    "states[2][2].goal = True"
   ]
  },
  {
   "cell_type": "code",
   "execution_count": 4,
   "metadata": {},
   "outputs": [
    {
     "data": {
      "image/png": "[encoded data removed]",
      "text/plain": [
       "<matplotlib.figure.Figure at 0x10a4d1ba8>"
      ]
     },
     "metadata": {},
     "output_type": "display_data"
    }
   ],
   "source": [
    "import matplotlib.pyplot as plt  \n",
    "import matplotlib.patches as patches\n",
    "\n",
    "def draw(mark_pos):\n",
    "    fig, ax = plt.subplots()\n",
    "    values = [[states[i][j].Q[states[i][j].best_action] for j in range(size)] for i in range(size)]\n",
    "    mp = ax.pcolor(values, cmap=plt.cm.YlOrRd,vmin=0,vmax=8)\n",
    "    ax.set_aspect(1)\n",
    "    ax.set_xticks(range(size), minor=False)\n",
    "    ax.set_yticks(range(size), minor=False)\n",
    "    \n",
    "    for x in range(len(values)):\n",
    "        for y in range(len(values[0])):\n",
    "            s = states[x][y]\n",
    "            plt.text(x+0.5,y+0.5,int(1000*s.Q[s.best_action])/1000,ha = 'center', va = 'center', size=20)\n",
    "            if states[x][y].goal:\n",
    "                plt.text(x+0.75,y+0.75,\"G\",ha = 'center', va = 'center', size=20)\n",
    "                \n",
    "    plt.text(agent.pos[0]+0.5,agent.pos[1]+0.25,\"agent\",ha = 'center', va = 'center', size=20)\n",
    "    \n",
    "    if mark_pos == \"all\":   # 指定した位置にactionの文字列を書くという処理\n",
    "        for x in range(size):\n",
    "            for y in range(size):\n",
    "                if states[x][y].goal: continue\n",
    "                plt.text(x+0.5,y+0.25,states[x][y].best_action,ha = 'center', va = 'center', size=20)\n",
    "    elif mark_pos != None: \n",
    "        s = states[mark_pos[0]][mark_pos[1]]\n",
    "        plt.text(mark_pos[0]+0.5,mark_pos[1]+0.25,s.best_action,ha = 'center', va = 'center', size=20)\n",
    "            \n",
    "    plt.show()\n",
    "    fig.clear()\n",
    "    \n",
    "draw(None)"
   ]
  },
  {
   "cell_type": "code",
   "execution_count": 5,
   "metadata": {},
   "outputs": [],
   "source": [
    "import random"
   ]
  },
  {
   "cell_type": "code",
   "execution_count": 6,
   "metadata": {},
   "outputs": [],
   "source": [
    "def state_transition(s_pos,a):\n",
    "    ###確率10%で元のまま ###\n",
    "    if random.uniform(0,1) < 0.1:\n",
    "        return s_pos\n",
    "    \n",
    "    x,y = s_pos\n",
    "    if   a == \"up\": y += 1\n",
    "    elif a == \"down\": y -= 1\n",
    "    elif a == \"right\": x += 1\n",
    "    elif a == \"left\": x -= 1\n",
    "    \n",
    "    if x < 0:       x = 0\n",
    "    elif x >= size: x = size-1\n",
    "    if y < 0:       y = 0\n",
    "    elif y >= size: y = size-1\n",
    "        \n",
    "    return (x,y)"
   ]
  },
  {
   "cell_type": "code",
   "execution_count": 7,
   "metadata": {},
   "outputs": [],
   "source": [
    "def e_greedy(s):\n",
    "    if random.uniform(0,1) < 0.1: #10%でランダムに\n",
    "        return random.choice(agent.actions)\n",
    "    \n",
    "    best_a = None\n",
    "    best_q = 1000000000\n",
    "    for a in s.Q:\n",
    "        if best_q > s.Q[a]:\n",
    "            best_q = s.Q[a]\n",
    "            best_a = a\n",
    "    s.best_action = best_a\n",
    "    return best_a"
   ]
  },
  {
   "cell_type": "code",
   "execution_count": 8,
   "metadata": {},
   "outputs": [],
   "source": [
    "alpha = 0.5\n",
    "gamma = 1.0\n",
    "\n",
    "def sarsa(s_pos,a):\n",
    "    s = states[s_pos[0]][s_pos[1]]\n",
    "    s_next_pos = state_transition(s_pos,a)\n",
    "    s_next = states[s_next_pos[0]][s_next_pos[1]]\n",
    "    a_next = e_greedy(s_next)\n",
    "    \n",
    "    q = (1.0-alpha)*s.Q[a] + alpha * (1.0 + gamma * s_next.Q[a_next])\n",
    "    print(\"s:\" + str(s_pos)+ \"　a:\" + a + \" s':\" + str(s_next_pos) + \" a':\" + a_next)\n",
    "    print(\"----\")\n",
    "    return s_next_pos, a_next, q"
   ]
  },
  {
   "cell_type": "code",
   "execution_count": null,
   "metadata": {},
   "outputs": [],
   "source": [
    "def one_trial():\n",
    "    agent.pos = (random.randrange(size),random.randrange(size))\n",
    "    a = e_greedy(states[agent.pos[0]][agent.pos[1]])\n",
    "    \n",
    "    while not states[agent.pos[0]][agent.pos[1]].goal:\n",
    "        s_next, a_next, q = sarsa(agent.pos,a)\n",
    "        states[agent.pos[0]][agent.pos[1]].Q[a] = q\n",
    "        agent.pos = s_next\n",
    "        a = a_next"
   ]
  }
 ],
 "metadata": {
  "kernelspec": {
   "display_name": "Python 3",
   "language": "python",
   "name": "python3"
  },
  "language_info": {
   "codemirror_mode": {
    "name": "ipython",
    "version": 3
   },
   "file_extension": ".py",
   "mimetype": "text/x-python",
   "name": "python",
   "nbconvert_exporter": "python",
   "pygments_lexer": "ipython3",
   "version": "3.6.3"
  }
 },
 "nbformat": 4,
 "nbformat_minor": 2
}
