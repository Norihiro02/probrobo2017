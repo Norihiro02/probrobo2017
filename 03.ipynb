{
 "cells": [
  {
   "cell_type": "markdown",
   "metadata": {},
   "source": [
    "# 確率ロボティクス2016第3回\n",
    "\n",
    "上田隆一\n",
    "\n",
    "2016年10月4日@千葉工業大学\n",
    "\n",
    "## モンテカルロ法による$bel$の計算\n",
    "\n",
    "* 発想: 前回の移動ロボットのシミュレーションをロボット（エージェント）が行う。\n",
    "  * 一挙にたくさん並列で\n",
    "  * 状態遷移のシミュレーション\n",
    "* 一つ時刻0の状態$\\boldsymbol{x}_0$を選んで、制御出力に合わせて移動\n",
    "  * 誤差を混入\n",
    "* 一つのシミュレーションの状態を、$bel$からサンプリングされる標本（サンプル）とみなすことができる\n",
    "  *「粒子（パーティクル）」という言い方も"
   ]
  },
  {
   "cell_type": "markdown",
   "metadata": {},
   "source": [
    "## モンテカルロ法のプログラミング\n",
    "\n",
    "* 前回の移動ロボットの動作をふまえて\n",
    "\n",
    "まず変数を準備。"
   ]
  },
  {
   "cell_type": "code",
   "execution_count": 4,
   "metadata": {},
   "outputs": [],
   "source": [
    "%matplotlib inline\n",
    "import numpy as np\n",
    "from copy import copy\n",
    "import math, random\n",
    "import matplotlib.pyplot as plt                   #   for plotting data\n",
    "from matplotlib.patches import Ellipse      #  for drawing\n",
    "\n",
    "### 変数 ###\n",
    "\n",
    "# 実際の世界のシミュレーション\n",
    "actual_x = np.array([0,0,0])   #ロボットの実際の姿勢\n",
    "u = np.array([0.2,math.pi / 180.0 * 20]) #ロボットの移動\n",
    "\n",
    "# モンテカルロ法のための変数\n",
    "\n"
   ]
  },
  {
   "cell_type": "code",
   "execution_count": null,
   "metadata": {},
   "outputs": [],
   "source": []
  }
 ],
 "metadata": {
  "kernelspec": {
   "display_name": "Python 3",
   "language": "python",
   "name": "python3"
  },
  "language_info": {
   "codemirror_mode": {
    "name": "ipython",
    "version": 3
   },
   "file_extension": ".py",
   "mimetype": "text/x-python",
   "name": "python",
   "nbconvert_exporter": "python",
   "pygments_lexer": "ipython3",
   "version": "3.5.2"
  }
 },
 "nbformat": 4,
 "nbformat_minor": 2
}
