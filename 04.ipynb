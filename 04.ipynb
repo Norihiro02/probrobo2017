{
 "cells": [
  {
   "cell_type": "markdown",
   "metadata": {},
   "source": [
    "# 確率ロボティクス2016第4回\n",
    "\n",
    "上田隆一\n",
    "\n",
    "2016年10月4日@千葉工業大学\n",
    "\n",
    "## 今日やること\n",
    "\n",
    "モンテカルロ近似された$bel$にセンサ情報を反映\n",
    "\n",
    "* 考え方\n",
    "  * センサの値とパーティクルの姿勢を比較\n",
    "    * センサの値が得られそうな姿勢のパーティクルは真の姿勢の有力な候補\n",
    "    * センサの値が得られそうな姿勢のパーティクルはそうでもない\n",
    "  * 前回使わなかった重みを使用\n",
    "  \n",
    "## ランドマークの準備\n",
    "\n",
    "現在主流はレーザレンジファインダーを使う方法ですが、シミュレーションが大変なので点ランドマークで。\n",
    "\n",
    "* 点ランドマーク\n",
    "  * 環境中での絶対位置が分かっている目印\n",
    "  * ロボットから観測すると、次のことが（曖昧さと共に）分かる\n",
    "    * どっちの方角に見えるか\n",
    "    * 距離はどれくらいか"
   ]
  },
  {
   "cell_type": "code",
   "execution_count": 1,
   "metadata": {},
   "outputs": [
    {
     "data": {
      "image/png": "[encoded data removed]",
      "text/plain": [
       "<matplotlib.figure.Figure at 0x10d6827f0>"
      ]
     },
     "metadata": {},
     "output_type": "display_data"
    }
   ],
   "source": [
    "%matplotlib inline\n",
    "import numpy as np\n",
    "from copy import copy\n",
    "import math, random\n",
    "import matplotlib.pyplot as plt                   #   for plotting data\n",
    "from matplotlib.patches import Ellipse      #  for drawing\n",
    "\n",
    "class Landmarks:\n",
    "    def __init__(self,array):\n",
    "        self.positions = array\n",
    "    \n",
    "    def draw(self):\n",
    "        xs = [ e[0] for e in self.positions]\n",
    "        ys = [ e[1] for e in self.positions]\n",
    "        plt.scatter(xs,ys,s=300,marker=\"*\",label=\"landmarks\",color=\"orange\")\n",
    "        \n",
    "actual_landmarks = Landmarks(np.array([[-0.5,0.0],[0.5,0.0],[0.0,0.5]]))\n",
    "actual_landmarks.draw()"
   ]
  },
  {
   "cell_type": "markdown",
   "metadata": {},
   "source": [
    "## 観測モデルの作成\n",
    "\n",
    "ロボットからどの向き、距離に見えるか計算してみましょう。"
   ]
  },
  {
   "cell_type": "code",
   "execution_count": null,
   "metadata": {},
   "outputs": [],
   "source": []
  },
  {
   "cell_type": "markdown",
   "metadata": {},
   "source": []
  },
  {
   "cell_type": "code",
   "execution_count": null,
   "metadata": {
    "collapsed": true
   },
   "outputs": [],
   "source": []
  }
 ],
 "metadata": {
  "kernelspec": {
   "display_name": "Python 3",
   "language": "python",
   "name": "python3"
  },
  "language_info": {
   "codemirror_mode": {
    "name": "ipython",
    "version": 3
   },
   "file_extension": ".py",
   "mimetype": "text/x-python",
   "name": "python",
   "nbconvert_exporter": "python",
   "pygments_lexer": "ipython3",
   "version": "3.6.1"
  }
 },
 "nbformat": 4,
 "nbformat_minor": 2
}
