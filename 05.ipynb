{
 "cells": [
  {
   "cell_type": "markdown",
   "metadata": {},
   "source": [
    "# 確率ロボティクス2017第5回\n",
    "\n",
    "上田隆一\n",
    "\n",
    "2017年10月18日@千葉工業大学\n",
    "\n",
    "## 今日やること\n",
    "\n",
    "* ベイズの定理\n",
    "* リサンプリング\n",
    "* ベイズフィルタ（理論）"
   ]
  },
  {
   "cell_type": "markdown",
   "metadata": {},
   "source": [
    "## ベイズの定理\n",
    "\n",
    "* 前回いい加減に終わったので補足\n",
    "* 確率の表記\n",
    "  * $P(A)$: $A$が起こる確率\n",
    "  * $P(A|B)$: $B$が起こったときに$A$が起こる確率\n",
    "  * $P(A,B)$: $A$も$B$も起こる確率\n",
    "* ベイズの定理\n",
    "  * 「雨が降る」などのこと（事象）が起こる確率と、その事象にかかわる別の種類の事象（例えば雲が出ている）などの関係を表す\n",
    "  * $P(A|B) = \\dfrac{P(B|A)P(A)}{P(A,B)} = \\dfrac{P(B|A)P(A)}{\\sum_{A' \\in \\mathcal{A}} P(B|A')P(A')}$\n",
    "    * $\\mathcal{A}$は、$A$の全種類を含む集合\n",
    "      * 例: $\\mathcal{A} = \\{雨が降る, 雨がふらない\\}$\n",
    "      * $P(B|A)$（少し定義が違いますが「尤度」と呼びます）は事前に分かっている必要がある\n",
    "* 基本的な考え\n",
    "  * あることに対して確率的な知識を持っている（あるいは持っていない）\n",
    "  * 何か関連した情報が入る\n",
    "  * あることに対する知識が増える"
   ]
  },
  {
   "cell_type": "markdown",
   "metadata": {},
   "source": [
    "### ベイズの定理の例題\n",
    "\n",
    "* ロボットが壁の前にいる\n",
    "  * ロボットは壁に対して、1mと2mの2つの距離しかとれないとしましょう\n",
    "    * この距離を$x$と置きます\n",
    "  * 現在のロボットの自己位置推定: 60%の確率で1m、40%の確率で2m\n",
    "  * ロボットは壁の距離を測ることができる\n",
    "    * 計測値は$z$と表しましょう\n",
    "    * ロボットと壁の距離が1mの時\n",
    "      * 1mと計測される確率が90%、2mと計測される確率が10%\n",
    "    * ロボットと壁の距離が2mの時\n",
    "      * 2mと計測される確率が90%、1mと計測される確率が10%\n",
    "  * 今、ロボットがセンサの計測値$z = 1$[m]が得られました。自己位置に関する知識はどのように更新されますか？\n",
    "      \n",
    "### 定式化\n",
    " \n",
    "* 事前知識\n",
    "  * $P(x = 1) = 0.6$\n",
    "  * $P(x = 2) = 0.4$\n",
    "* 尤度\n",
    "  * $P(z = 1 | x = 1) = 0.9, P(z = 2 | x = 1) = 0.1$\n",
    "  * $P(z = 2 | x = 2) = 0.9, P(z = 2 | x = 2) = 0.1$\n",
    "* 観測で得られる自己位置に関する情報\n",
    "  * $P(x = 1 | z = 1) = \\dfrac{P(z = 1 | x = 1)P(x = 1) }{P(z = 1 | x = 1)P(x = 1) + P(z = 1 | x = 2)P(x = 2)} = \\dfrac{0.9 \\cdot 0.6}{0.9 \\cdot 0.6 + 0.1 \\cdot 0.4} = \\dfrac{54}{58} = 0.93$\n",
    "  * $P(x = 2 | z = 1) = \\dfrac{P(z = 1 | x = 2)P(x = 2) }{P(z = 1 | x = 1)P(x = 1) + P(z = 1 | x = 2)P(x = 2)} = \\dfrac{0.1 \\cdot 0.4}{0.9 \\cdot 0.6 + 0.1 \\cdot 0.4} = \\dfrac{4}{58} = 0.07$\n",
    "  "
   ]
  },
  {
   "cell_type": "markdown",
   "metadata": {},
   "source": [
    "## リサンプリング\n",
    "\n",
    "* パーティクルの重みが偏ると近似の効率が悪くなる\n",
    "  * 是正するための処理\n",
    "* よく似た手続き: 選挙における議席の調整\n",
    "  * 各県の人口が偏る$\\rightarrow$議席の数を調整\n",
    "    * 人口の多い議員が多く票を持っているというシステムは、たぶんおかしなことが起こるのでどの国もとっていない。（株式会社はその逆。大株主がおかしくなると会社は潰れる。）\n",
    "  * 「サンプリング（標本抽出）」\n",
    "\n",
    "## 数式上の説明\n",
    "\n",
    "* 問題\n",
    "  * ある時点でのパーティクルの集合$\\Xi = \\{\\xi^{(i)} = (\\boldsymbol{x}^{(i)}, w^{(i)}) | i = 1,2,\\dots,N \\}$の$w^{(i)}$が大きくばらついている\n",
    "  * このパーティクルの集合は、$Bel(X) = \\int_{\\boldsymbol{x} \\in X} bel(\\boldsymbol{x}) d\\boldsymbol{x} \\approx \\sum_{i=1}^N \\delta(\\boldsymbol{x}^{(i)} \\in X) w^{(i)}$を近似している\n",
    "  * **近似精度を保ったまま、パーティクルの重みがすべて等しく$1/N$となるパーティクルの集合を新たに作るにはどうしたらよいか？**"
   ]
  },
  {
   "cell_type": "markdown",
   "metadata": {},
   "source": [
    "## 主な（リ）サンプリングの手法\n",
    "\n",
    "* パーティクルフィルタで使って意味のあるもの\n",
    "  * 単純ランダムサンプリング\n",
    "  * 層化抽出法（stratified sampling, 層別サンプリング）\n",
    "  * **系統抽出（systematic sampling, 系統サンプリング、等間隔サンプリング）**\n",
    "  * **KLDサンプリング**\n",
    "    * これがROSのMCL（amcl）で用いられているのですが、すみません、扱いません・・・\n",
    "* 他、商品の抜き取り検査の解説ページ等に豊富な説明が存在"
   ]
  },
  {
   "cell_type": "markdown",
   "metadata": {},
   "source": [
    " ## 系統抽出法の実装\n",
    " \n",
    "* 単純な例で\n",
    "  * パーティクルは4つ\n",
    "  * 重みは次の通りで、リストにしましょう。"
   ]
  },
  {
   "cell_type": "code",
   "execution_count": 1,
   "metadata": {
    "collapsed": true
   },
   "outputs": [],
   "source": [
    "%matplotlib inline\n",
    "import numpy as np\n",
    "import math, random, copy\n",
    "import matplotlib.pyplot as plt                   #   for plotting data\n",
    "\n",
    "class Particle:\n",
    "    def __init__(self,p,w ):  #姿勢も指定できるようにしましょう\n",
    "        self.pose = np.array(p)\n",
    "        self.weight = w\n",
    "    \n",
    "    def __repr__(self):\n",
    "        return \"pose: \" + str(self.pose) + \" weight: \" + str(self.weight)\n",
    "\n",
    "particles = [Particle([1.0,0.0,0.0],0.1),  #1個目のパーティクル\n",
    "            Particle([2.0,0.0,0.0],0.2),   #2個目のパーティクル\n",
    "            Particle([3.0,0.0,0.0],0.3),   #3個目のパーティクル\n",
    "            Particle([4.0,0.0,0.0],0.4)]   #4個目のパーティクル"
   ]
  },
  {
   "cell_type": "code",
   "execution_count": 2,
   "metadata": {},
   "outputs": [
    {
     "name": "stdout",
     "output_type": "stream",
     "text": [
      "pose: [ 1.  0.  0.] weight: 0.1\n",
      "pose: [ 2.  0.  0.] weight: 0.2\n",
      "pose: [ 3.  0.  0.] weight: 0.3\n",
      "pose: [ 4.  0.  0.] weight: 0.4\n"
     ]
    }
   ],
   "source": [
    "for p in particles:\n",
    "    print(p)"
   ]
  },
  {
   "cell_type": "markdown",
   "metadata": {},
   "source": [
    "## （累積）確率分布のリストを作成"
   ]
  },
  {
   "cell_type": "code",
   "execution_count": 3,
   "metadata": {},
   "outputs": [
    {
     "name": "stdout",
     "output_type": "stream",
     "text": [
      "[0.1, 0.30000000000000004, 0.6000000000000001, 1.0]\n"
     ]
    }
   ],
   "source": [
    "accum = []\n",
    "sm = 0.0\n",
    "for p in particles:\n",
    "    accum.append(p.weight + sm)\n",
    "    sm += p.weight\n",
    "    \n",
    "print(accum)"
   ]
  },
  {
   "cell_type": "markdown",
   "metadata": {},
   "source": [
    "## サンプリング\n",
    "\n",
    "* $[0,1/N)$の間の数（ポインタ）を乱数で一つ選択\n",
    "* ポインタの数が1未満の間、以下、繰り返し\n",
    "  * リストの先頭の確率がポインタの数以上\n",
    "    * リストに対応するパーティクルの姿勢と重み$1/N$で、新たにパーティクルを生成\n",
    "    * ポインタの数字を$1/N$増加\n",
    "  * 未満\n",
    "    * 今のリストの先頭を消す"
   ]
  },
  {
   "cell_type": "code",
   "execution_count": 4,
   "metadata": {},
   "outputs": [
    {
     "name": "stdout",
     "output_type": "stream",
     "text": [
      "0.18238983434829664\n"
     ]
    }
   ],
   "source": [
    "pointer = random.uniform(0.0,1.0/len(particles))\n",
    "print(pointer)"
   ]
  },
  {
   "cell_type": "code",
   "execution_count": 5,
   "metadata": {
    "collapsed": true
   },
   "outputs": [],
   "source": [
    "new_particles = []\n",
    "particles_num = len(particles)\n",
    "\n",
    "while pointer < 1.0:\n",
    "    if accum[0] >= pointer:\n",
    "        new_particles.append(\n",
    "            Particle(copy.deepcopy(particles[0].pose),1.0/particles_num)\n",
    "        )\n",
    "        pointer += 1.0/particles_num\n",
    "    else:\n",
    "        accum.pop(0)\n",
    "        particles.pop(0)\n",
    "        "
   ]
  },
  {
   "cell_type": "code",
   "execution_count": 6,
   "metadata": {},
   "outputs": [
    {
     "name": "stdout",
     "output_type": "stream",
     "text": [
      "pose: [ 2.  0.  0.] weight: 0.25\n",
      "pose: [ 3.  0.  0.] weight: 0.25\n",
      "pose: [ 4.  0.  0.] weight: 0.25\n",
      "pose: [ 4.  0.  0.] weight: 0.25\n"
     ]
    }
   ],
   "source": [
    "particles = new_particles\n",
    "\n",
    "for p in particles:\n",
    "    print(p)"
   ]
  },
  {
   "cell_type": "markdown",
   "metadata": {},
   "source": [
    "余裕のある人はパーティクルの数を増やしてみましょう。"
   ]
  },
  {
   "cell_type": "markdown",
   "metadata": {},
   "source": [
    "## 課題1\n",
    "\n",
    "* MCLの実装\n",
    "  * 2-5回のコードをうまく組み合わせて、パーティクルフィルタによる自己位置推定（Monte Carlo localization）のコードを書く\n",
    "    * motion update\n",
    "    * sensor update\n",
    "    * resampling\n",
    "      * sensor updateの直後に適用すると良い\n",
    "* 提出方法\n",
    "  * GitHubにJupyter notebookを置く\n",
    "  * 上田までURLをメール\n",
    "  * メール\n",
    "    * 件名: 確率ロボティクス2017年課題1\n",
    "    * 内容に氏名、学籍番号を書いてください\n",
    "* 期限\n",
    "  * とりあえず来週まで\n",
    "    * 要は講義で作ったプログラムをつなぎ合わせるだけですので・・・\n",
    "  * ただ、成績をつけるまで待ちます"
   ]
  },
  {
   "cell_type": "markdown",
   "metadata": {},
   "source": [
    "## ベイズフィルタ\n",
    "\n",
    "* これまでMCLを実装してきた\n",
    "  * これは「ベイズフィルタ」の近似計算に相当\n",
    "* **ベイズフィルタ**\n",
    "  * 制御とセンサ計測の繰り返しを信念に、その都度反映"
   ]
  },
  {
   "cell_type": "markdown",
   "metadata": {},
   "source": [
    "### おさらい\n",
    "\n",
    "* 制御出力の式とセンサ入力の式を並べて記号を整理\n",
    "* 以下のように定義しましょう\n",
    "  * 制御出力$\\boldsymbol{u}_t $後の信念:\n",
    "    * $\\hat{bel}_t(\\boldsymbol{x}) = bel(\\boldsymbol{x} |\\boldsymbol{u}_{1:t},\\boldsymbol{z}_{1:t-1},bel_0)$\n",
    "  * センサ入力$\\boldsymbol{z}_t$後の信念:\n",
    "    * $bel_t(\\boldsymbol{x}) = bel(\\boldsymbol{x} |\\boldsymbol{u}_{1:t},\\boldsymbol{z}_{1:t},bel_0)$\n",
    "  * ここで\n",
    "    * $bel_0$: 最初にエージェントが持つ信念\n",
    "    * $\\boldsymbol{u}_{1:t}$: 時刻$1$から$t$までの制御出力のシーケンス\n",
    "    * $\\boldsymbol{z}_{1:t}$: 時刻$1$から$t$までのセンサ入力のシーケンス\n"
   ]
  },
  {
   "cell_type": "markdown",
   "metadata": {},
   "source": [
    "### ベイズフィルタ\n",
    "\n",
    "* 制御出力後の変更（motion update）\n",
    "  * $\\hat{bel}_t(\\boldsymbol{x}) = \\int_\\mathcal{X} p(\\boldsymbol{x} | \\boldsymbol{x}',\\boldsymbol{u}_t )bel_{t-1}(\\boldsymbol{x}') d\\boldsymbol{x}'$\n",
    "  * 式の意味: 状態が動いた後の信念は、その動きの予測の密度関数に、もとの信念の密度関数をかけて積分したもの\n",
    "* センサ入力後の更新（sensor update）\n",
    "  * $bel_t(\\boldsymbol{x}) = \\eta \\ell(\\boldsymbol{x}|\\boldsymbol{z}_t)\\hat{bel}_t(\\boldsymbol{x})$\n",
    "  * 式の意味: センサから情報が入った後の信念は、そのセンサ値が分かったときの尤度関数と、もとの信念の密度関数をベイズの定理でかけたもの\n"
   ]
  },
  {
   "cell_type": "code",
   "execution_count": null,
   "metadata": {
    "collapsed": true
   },
   "outputs": [],
   "source": []
  }
 ],
 "metadata": {
  "kernelspec": {
   "display_name": "Python 3",
   "language": "python",
   "name": "python3"
  },
  "language_info": {
   "codemirror_mode": {
    "name": "ipython",
    "version": 3
   },
   "file_extension": ".py",
   "mimetype": "text/x-python",
   "name": "python",
   "nbconvert_exporter": "python",
   "pygments_lexer": "ipython3",
   "version": "3.6.1"
  }
 },
 "nbformat": 4,
 "nbformat_minor": 2
}
