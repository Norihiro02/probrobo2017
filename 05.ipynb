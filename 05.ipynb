{
 "cells": [
  {
   "cell_type": "markdown",
   "metadata": {},
   "source": [
    "# 確率ロボティクス2017第5回\n",
    "\n",
    "上田隆一\n",
    "\n",
    "2017年10月18日@千葉工業大学\n",
    "\n",
    "## 今日やること\n",
    "\n",
    "* リサンプリング\n",
    "* ベイズフィルタ（理論）"
   ]
  },
  {
   "cell_type": "markdown",
   "metadata": {},
   "source": [
    "## リサンプリング\n",
    "\n",
    "* パーティクルの重みが偏ると近似の効率が悪くなる\n",
    "  * 是正するための処理\n",
    "* よく似た手続き: 選挙における議席の調整\n",
    "  * 各県の人口が偏る$\\rightarrow$議席の数を調整\n",
    "    * 人口の多い議員が多く票を持っているというシステムは、たぶんおかしなことが起こるのでどの国もとっていない。（株式会社はその逆。大株主がおかしくなると会社は潰れる。）\n",
    "  * 「サンプリング（標本抽出）」\n",
    "\n",
    "## 数式上の説明\n",
    "\n",
    "* 問題\n",
    "  * ある時点でのパーティクルの集合$\\Xi = \\{\\xi^{(i)} = (\\boldsymbol{x}^{(i)}, w^{(i)}) | i = 1,2,\\dots,N \\}$の$w^{(i)}$が大きくばらついている\n",
    "  * このパーティクルの集合は、$Bel(X) = \\int_{\\boldsymbol{x} \\in X} bel(\\boldsymbol{x}) d\\boldsymbol{x} \\approx \\sum_{i=1}^N \\delta(\\boldsymbol{x}^{(i)} \\in X) w^{(i)}$を近似している\n",
    "  * **近似精度を保ったまま、パーティクルの重みがすべて等しく$1/N$となるパーティクルの集合を新たに作るにはどうしたらよいか？**"
   ]
  },
  {
   "cell_type": "markdown",
   "metadata": {},
   "source": [
    "## 主な（リ）サンプリングの手法\n",
    "\n",
    "* パーティクルフィルタで使って意味のあるもの\n",
    "  * 単純ランダムサンプリング\n",
    "  * 層化抽出法（stratified sampling, 層別サンプリング）\n",
    "  * **系統抽出（systematic sampling, 系統サンプリング、等間隔サンプリング）**\n",
    "  * **KLDサンプリング**\n",
    "    * これがROSのMCL（amcl）で用いられているのですが、すみません、扱いません・・・\n",
    "* 他、商品の抜き取り検査の解説ページ等に豊富な説明が存在"
   ]
  },
  {
   "cell_type": "markdown",
   "metadata": {},
   "source": [
    " ## 系統抽出法の実装\n",
    " \n",
    "* 単純な例で\n",
    "  * パーティクルは4つ\n",
    "  * 重みは次の通りで、リストにしましょう。"
   ]
  },
  {
   "cell_type": "code",
   "execution_count": 1,
   "metadata": {},
   "outputs": [],
   "source": [
    "%matplotlib inline\n",
    "import numpy as np\n",
    "import math, random, copy\n",
    "import matplotlib.pyplot as plt                   #   for plotting data\n",
    "\n",
    "class Particle:\n",
    "    def __init__(self,p,w ):  #姿勢も指定できるようにしましょう\n",
    "        self.pose = np.array(p)\n",
    "        self.weight = w\n",
    "    \n",
    "    def __repr__(self):\n",
    "        return \"pose: \" + str(self.pose) + \" weight: \" + str(self.weight)\n",
    "\n",
    "particles = [Particle([1.0,0.0,0.0],0.1),  #1個目のパーティクル\n",
    "            Particle([2.0,0.0,0.0],0.2),   #2個目のパーティクル\n",
    "            Particle([3.0,0.0,0.0],0.3),   #3個目のパーティクル\n",
    "            Particle([4.0,0.0,0.0],0.4)]   #4個目のパーティクル"
   ]
  },
  {
   "cell_type": "code",
   "execution_count": 2,
   "metadata": {},
   "outputs": [
    {
     "name": "stdout",
     "output_type": "stream",
     "text": [
      "pose: [ 1.  0.  0.] weight: 0.1\n",
      "pose: [ 2.  0.  0.] weight: 0.2\n",
      "pose: [ 3.  0.  0.] weight: 0.3\n",
      "pose: [ 4.  0.  0.] weight: 0.4\n"
     ]
    }
   ],
   "source": [
    "for p in particles:\n",
    "    print(p)"
   ]
  },
  {
   "cell_type": "markdown",
   "metadata": {},
   "source": [
    "## （累積）確率分布のリストを作成"
   ]
  },
  {
   "cell_type": "code",
   "execution_count": 3,
   "metadata": {},
   "outputs": [
    {
     "name": "stdout",
     "output_type": "stream",
     "text": [
      "[0.1, 0.30000000000000004, 0.6000000000000001, 1.0]\n"
     ]
    }
   ],
   "source": [
    "accum = []\n",
    "sm = 0.0\n",
    "for p in particles:\n",
    "    accum.append(p.weight + sm)\n",
    "    sm += p.weight\n",
    "    \n",
    "print(accum)"
   ]
  },
  {
   "cell_type": "markdown",
   "metadata": {},
   "source": [
    "## サンプリング\n",
    "\n",
    "* $[0,1/N)$の間の数（ポインタ）を乱数で一つ選択\n",
    "* ポインタの数が1未満の間、以下、繰り返し\n",
    "  * リストの先頭の確率がポインタの数以上\n",
    "    * リストに対応するパーティクルの姿勢と重み$1/N$で、新たにパーティクルを生成\n",
    "    * ポインタの数字を$1/N$増加\n",
    "  * 未満\n",
    "    * 今のリストの先頭を消す"
   ]
  },
  {
   "cell_type": "code",
   "execution_count": 4,
   "metadata": {},
   "outputs": [
    {
     "name": "stdout",
     "output_type": "stream",
     "text": [
      "0.18238983434829664\n"
     ]
    }
   ],
   "source": [
    "pointer = random.uniform(0.0,1.0/len(particles))\n",
    "print(pointer)"
   ]
  },
  {
   "cell_type": "code",
   "execution_count": 5,
   "metadata": {},
   "outputs": [],
   "source": [
    "new_particles = []\n",
    "particles_num = len(particles)\n",
    "\n",
    "while pointer < 1.0:\n",
    "    if accum[0] >= pointer:\n",
    "        new_particles.append(\n",
    "            Particle(copy.deepcopy(particles[0].pose),1.0/particles_num)\n",
    "        )\n",
    "        pointer += 1.0/particles_num\n",
    "    else:\n",
    "        accum.pop(0)\n",
    "        particles.pop(0)\n",
    "        "
   ]
  },
  {
   "cell_type": "code",
   "execution_count": 6,
   "metadata": {},
   "outputs": [
    {
     "name": "stdout",
     "output_type": "stream",
     "text": [
      "pose: [ 2.  0.  0.] weight: 0.25\n",
      "pose: [ 3.  0.  0.] weight: 0.25\n",
      "pose: [ 4.  0.  0.] weight: 0.25\n",
      "pose: [ 4.  0.  0.] weight: 0.25\n"
     ]
    }
   ],
   "source": [
    "particles = new_particles\n",
    "\n",
    "for p in particles:\n",
    "    print(p)"
   ]
  },
  {
   "cell_type": "markdown",
   "metadata": {},
   "source": [
    "余裕のある人はパーティクルの数を増やしてみましょう。"
   ]
  },
  {
   "cell_type": "markdown",
   "metadata": {},
   "source": [
    "## 課題1\n",
    "\n",
    "* MCLの実装\n",
    "  * 2-5回のコードをうまく組み合わせて、パーティクルフィルタによる自己位置推定（Monte Carlo localization）のコードを書く\n",
    "    * motion update\n",
    "    * sensor update\n",
    "    * resampling\n",
    "      * sensor updateの直後に適用すると良い\n",
    "* 提出方法\n",
    "  * GitHubにJupyter notebookを置く\n",
    "  * 上田までURLをメール\n",
    "  * メール\n",
    "    * 件名: 確率ロボティクス2017年課題1\n",
    "    * 内容に氏名、学籍番号を書いてください\n",
    "* 期限\n",
    "  "
   ]
  },
  {
   "cell_type": "code",
   "execution_count": null,
   "metadata": {},
   "outputs": [],
   "source": []
  }
 ],
 "metadata": {
  "kernelspec": {
   "display_name": "Python 3",
   "language": "python",
   "name": "python3"
  },
  "language_info": {
   "codemirror_mode": {
    "name": "ipython",
    "version": 3
   },
   "file_extension": ".py",
   "mimetype": "text/x-python",
   "name": "python",
   "nbconvert_exporter": "python",
   "pygments_lexer": "ipython3",
   "version": "3.5.2"
  }
 },
 "nbformat": 4,
 "nbformat_minor": 2
}
