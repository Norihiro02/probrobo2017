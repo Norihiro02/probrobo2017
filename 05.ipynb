{
 "cells": [
  {
   "cell_type": "markdown",
   "metadata": {},
   "source": [
    "# 確率ロボティクス2017第5回\n",
    "\n",
    "上田隆一\n",
    "\n",
    "2017年10月18日@千葉工業大学\n",
    "\n",
    "## 今日やること\n",
    "\n",
    "* リサンプリング\n",
    "* ベイズフィルタ（理論）"
   ]
  },
  {
   "cell_type": "markdown",
   "metadata": {},
   "source": [
    "## リサンプリング\n",
    "\n",
    "* パーティクルの重みが偏ると近似の効率が悪くなる\n",
    "  * 是正するための処理\n",
    "* よく似た手続き: 選挙における議席の調整\n",
    "  * 各県の人口が偏る$\\rightarrow$議席の数を調整\n",
    "    * 人口の多い議員が多く票を持っているというシステムは、たぶんおかしなことが起こるのでどの国もとっていない。（株式会社はその逆。大株主がおかしくなると会社は潰れる。）\n",
    "  * 「サンプリング（標本抽出）」\n",
    "\n",
    "## 数式上の説明\n",
    "\n",
    "* 問題\n",
    "  * ある時点でのパーティクルの集合$\\Xi = \\{\\xi^{(i)} = (\\boldsymbol{x}^{(i)}, w^{(i)}) | i = 1,2,\\dots,N \\}$の$w^{(i)}$が大きくばらついている\n",
    "  * このパーティクルの集合は、$Bel(X) = \\int_{\\boldsymbol{x} \\in X} bel(\\boldsymbol{x}) d\\boldsymbol{x} \\approx \\sum_{i=1}^N \\delta(\\boldsymbol{x}^{(i)} \\in X) w^{(i)}$を近似している\n",
    "  * **近似精度を保ったまま、パーティクルの重みがすべて等しく$1/N$となるパーティクルの集合を新たに作るにはどうしたらよいか？**"
   ]
  },
  {
   "cell_type": "markdown",
   "metadata": {},
   "source": [
    "## 主な（リ）サンプリングの手法\n",
    "\n",
    "* パーティクルフィルタで使って意味のあるもの\n",
    "  * 単純ランダムサンプリング\n",
    "  * 層化抽出法（stratified sampling, 層別サンプリング）\n",
    "  * **系統抽出（systematic sampling, 系統サンプリング、等間隔サンプリング）**\n",
    "  * **KLDサンプリング**\n",
    "    * これがROSのMCL（amcl）で用いられているのですが、すみません、扱いません・・・\n",
    "* 他、商品の抜き取り検査の解説ページ等に豊富な説明が存在"
   ]
  },
  {
   "cell_type": "markdown",
   "metadata": {},
   "source": [
    " ## 系統抽出法の実装\n",
    " \n",
    "* 単純な例で\n",
    "  * パーティクルは4つ\n",
    "  * 重みは次の通りで、リストにしましょう。"
   ]
  },
  {
   "cell_type": "code",
   "execution_count": 1,
   "metadata": {},
   "outputs": [],
   "source": [
    "%matplotlib inline\n",
    "import numpy as np\n",
    "from copy import copy\n",
    "import math, random\n",
    "import matplotlib.pyplot as plt                   #   for plotting data\n",
    "\n",
    "class Particle:\n",
    "    def __init__(self,p,w ):  #姿勢も指定できるようにしましょう\n",
    "        self.pose = np.array(p)\n",
    "        self.weight = w\n",
    "    \n",
    "    def __repr__(self):\n",
    "        return \"pose: \" + str(self.pose) + \" weight: \" + str(self.weight)\n",
    "\n",
    "particles = [Particle([0.0,0.0,0.0],0.1),  #1個目のパーティクル\n",
    "            Particle([0.1,0.0,0.2],0.2),   #2個目のパーティクル\n",
    "            Particle([0.0,0.1,0.3],0.3),   #3個目のパーティクル\n",
    "            Particle([0.1,0.1,0.4],0.4)]   #4個目のパーティクル"
   ]
  },
  {
   "cell_type": "code",
   "execution_count": 2,
   "metadata": {},
   "outputs": [
    {
     "name": "stdout",
     "output_type": "stream",
     "text": [
      "pose: [ 0.  0.  0.] weight: 0.1\n",
      "pose: [ 0.1  0.   0.2] weight: 0.2\n",
      "pose: [ 0.   0.1  0.3] weight: 0.3\n",
      "pose: [ 0.1  0.1  0.4] weight: 0.4\n"
     ]
    }
   ],
   "source": [
    "for p in particles:\n",
    "    print(p)"
   ]
  },
  {
   "cell_type": "markdown",
   "metadata": {},
   "source": [
    "## （累積の）確率分布のリストを作成"
   ]
  },
  {
   "cell_type": "code",
   "execution_count": 6,
   "metadata": {},
   "outputs": [
    {
     "name": "stdout",
     "output_type": "stream",
     "text": [
      "[0.1, 0.30000000000000004, 0.6000000000000001, 1.0]\n"
     ]
    }
   ],
   "source": [
    "accum = []\n",
    "sm = 0.0\n",
    "for p in particles:\n",
    "    accum.append(p.weight + sm)\n",
    "    sm += p.weight\n",
    "    \n",
    "print(accum)"
   ]
  },
  {
   "cell_type": "code",
   "execution_count": null,
   "metadata": {},
   "outputs": [],
   "source": []
  }
 ],
 "metadata": {
  "kernelspec": {
   "display_name": "Python 3",
   "language": "python",
   "name": "python3"
  },
  "language_info": {
   "codemirror_mode": {
    "name": "ipython",
    "version": 3
   },
   "file_extension": ".py",
   "mimetype": "text/x-python",
   "name": "python",
   "nbconvert_exporter": "python",
   "pygments_lexer": "ipython3",
   "version": "3.5.2"
  }
 },
 "nbformat": 4,
 "nbformat_minor": 2
}
