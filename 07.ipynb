{
 "cells": [
  {
   "cell_type": "markdown",
   "metadata": {},
   "source": [
    "# 確率ロボティクス2017第7回\n",
    "\n",
    "上田隆一\n",
    "\n",
    "2017年10月18日@千葉工業大学\n",
    "\n",
    "## 今日やること\n",
    "\n",
    "* 有限マルコフ決定過程\n",
    "\n",
    "## 有限マルコフ決定過程\n",
    "\n",
    "* finite Markov decision processes (finite MDPs, 有限MDP)\n",
    "  * ロボットの行動を考えるときによく使う\n",
    "    * 行動をするに当たって何が「最適」なのか？\n",
    "    * 最適にするにはロボットがどうすべきか？\n",
    "  * 昔ながらの（今も使われる）経路計画の定式化も有限MDPの部分問題\n",
    "  \n",
    "## 有限MDPの考え方\n",
    "\n",
    "* ロボット（環境）の状態は制御出力により遷移\n",
    "  * これまでの話と同じ\n",
    "  * 雑音が伴うのも同じ\n",
    "* 状態をエージェントは観察できる\n",
    "  * これまでとは違う\n",
    "* 「こういう状態になったら終わり」という状態が存在\n",
    "  * 「終端状態」 \n",
    "  * 例\n",
    "    * 移動ロボットが目的地に入った状態\n",
    "    * ロボットが川に落ちた\n",
    "* 状態遷移にはコストやペナルティーが伴う\n",
    "  * コスト: 時間、電力消費、燃料消費等\n",
    "  * ペナルティー: ルール違反、危険な行為に対して\n",
    "  \n",
    "## 定式化（状態と行動）\n",
    "\n",
    "* 状態\n",
    "  * 離散状態の集合を考える\n",
    "    * $\\mathcal{S}= \\{s^{(i)} | i=1,2,\\dots,N \\}$\n",
    "  * 状態が連続の場合は離散化\n",
    "    * $\\mathcal{X}$を区切る \n",
    "* 終端状態\n",
    "  * $s_\\text{f} \\in \\mathcal{S}_\\text{f} \\subset \\mathcal{S}$\n",
    "  * この状態に到達するとそれ以上時間が進まない\n",
    "  * タスクの終わり "
   ]
  },
  {
   "cell_type": "code",
   "execution_count": null,
   "metadata": {
    "collapsed": true
   },
   "outputs": [],
   "source": []
  }
 ],
 "metadata": {
  "kernelspec": {
   "display_name": "Python 3",
   "language": "python",
   "name": "python3"
  },
  "language_info": {
   "codemirror_mode": {
    "name": "ipython",
    "version": 3
   },
   "file_extension": ".py",
   "mimetype": "text/x-python",
   "name": "python",
   "nbconvert_exporter": "python",
   "pygments_lexer": "ipython3",
   "version": "3.6.3"
  }
 },
 "nbformat": 4,
 "nbformat_minor": 2
}
