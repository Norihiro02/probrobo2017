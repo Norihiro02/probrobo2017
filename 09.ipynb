{
 "cells": [
  {
   "cell_type": "markdown",
   "metadata": {},
   "source": [
    "# 確率ロボティクス2017第9回\n",
    "\n",
    "上田隆一\n",
    "\n",
    "2017年11月15日@千葉工業大学"
   ]
  },
  {
   "cell_type": "markdown",
   "metadata": {},
   "source": [
    "## 今日やること\n",
    "\n",
    "* 強化学習（古典的なもの）\n",
    "* 参考: [Sutton and Barto, 三上, 皆川訳: 強化学習, 森北出版, 2000.](https://www.amazon.co.jp/dp/4627826613)\n",
    "  * [ウェブ版 ](http://webdocs.cs.ualberta.ca/~sutton/book/ebook/the-book.html)\n",
    "  * [そろそろ第2版が出るらしい](http://www.freetechbooks.com/reinforcement-learning-an-introduction-second-edition-draft-t1282.html)\n",
    "  \n",
    "## 強化学習（reinforcement learning）\n",
    "\n",
    "* 機械学習の一種\n",
    "  * 起源: 動物の心理学研究から[宮崎2005]\n",
    "    * 餌にありつけるような/危険を避けるような行動の学習\n",
    "  * 最近ANN（人工ニューラルネットワーク）との組み合わせで脚光を浴びている\n",
    "  \n",
    "## 基本的な強化学習の問題\n",
    "\n",
    "* 有限MDPでの行動決定の問題に一つ制限を与える\n",
    "  * 状態遷移と報酬が、行動しないと分からない。\n",
    "* 問題の定義\n",
    "  * 時刻: $\\mathcal{T} = \\{t | t = 0,1,2,\\dots,T \\}$\n",
    "  * 状態: $\\mathcal{S} = \\{s_i | i = 1,2,3,\\dots,N\\}$\n",
    "    * うち、いくつかは終端状態の集合$\\mathcal{S}_\\text{f}$に含まれる\n",
    "  * 行動: $\\mathcal{A} = \\{a_j | j = 1,2,3,\\dots,M\\}$\n",
    "  * 状態遷移$\\mathcal{P}_{ss'}^a$や報酬$\\mathcal{R}_{ss'}^a$は時不変だが自明でない\n",
    "    * ある確率分布に従って状態遷移する\n",
    "    * ある法則に従って報酬が与えられる \n",
    "\n",
    "## 何を求めたいのか\n",
    "\n",
    "* 「最適方策」を求める\n",
    "* 方策（二種類）\n",
    "  * 決定論的方策: $\\pi : \\mathcal{S} \\to \\mathcal{A}$\n",
    "    * 状態が決まると行動が決まるもの\n",
    "  * 確率的な方策: $\\pi : \\mathcal{S}\\times \\mathcal{A} \\to \\Re$\n",
    "    * 状態$s$において行動$a$を選択する確率\n",
    "* 最適方策は決定論的になる（理由は次のページに）\n",
    "  * $\\pi^* : \\mathcal{S} \\to \\mathcal{A}$\n",
    "  \n",
    "## 問題を解く道具\n",
    "\n",
    "* ベルマン方程式が成り立つ\n",
    "  * $V^*(s) = \\max_{a \\in \\mathcal{A} } \\sum_{s' \\in \\mathcal{S}}\\mathcal{P}_{ss'}^a [V^*(s') +\\mathcal{R}_{ss'}^a ]$\n",
    "    * $V^*$: 最適状態価値関数\n",
    "    * 左辺の「$\\max_{a \\in \\mathcal{A} }$」を満たすものが最適方策$\\pi^*$\n",
    "* エージェントの「経験」\n",
    "  * 状態遷移: ある状態$s$で行動$a$を選択したら状態$s'$に遷移して報酬を得た\n",
    "  * たくさん行動すれば統計的な性質が得られる\n",
    "  * たくさん行動しなければ統計的な性質が得られない\n",
    "  \n",
    "## 問題の難しさ\n",
    "\n",
    "* 価値関数に停留点が一つでもあると、エージェントがその場に留まってしまう\n",
    "* 膨大な試行が必要\n",
    "\n",
    "## 方策を求めるには\n",
    "\n",
    "* 何か適当な初期の方策を与えて価値関数がよくなるように方策を改善していけば良い\n",
    "  * でもどうやって行動を選ぶのか？\n",
    "* 様々な方法があるが本講義ではTD学習を説明\n",
    "\n",
    "## TD（temporal difference）学習\n",
    "\n",
    "* 行動した時に次の式で価値を更新\n",
    "  * $V(s) \\longleftarrow (1-\\alpha)V(s) + \\alpha[r + \\gamma V(s')]$\n",
    "    * $\\alpha$: ステップサイズパラメータと呼ばれる\n",
    "    * $\\gamma$: 割引率\n",
    "* 移動等の問題の場合は1で考えておいて良い\n",
    "* 行動するたびに上の式で価値を更新\n",
    "* 方策オン型（Sarsa）とオフ型（Q学習）\n",
    "* 今日はワンステップのものしか扱わないが、一度の行動でいくつかの状態を変更する効率の良い方法も（TD$(\\lambda$)）\n",
    "\n",
    "## Sarsa\n",
    "\n",
    "* 方策ON型TD学習\n",
    "* 行動価値を学習\n",
    "  * $Q(s,a) ← (1-\\alpha )Q(s,a) + \\alpha[r + \\gamma Q(s',a')]$\n",
    "* 手順\n",
    "  1.$Q(s,a)$を初期化\n",
    "  1.$\\epsilon$-グリーディ方策等から行動$a$を選択\n",
    "  1.行動$a$をとり、$s'$に移った後、次の行動$a'$を選択\n",
    "  1.上の式で$Q(s,a)$を更新\n",
    "  \n",
    "## Q学習\n",
    "\n",
    "* 方策オフ型TD学習\n",
    "* 次の式を使う\n",
    "  * $Q(s,a) ← (1-\\alpha )Q(s,a) + \\alpha [r + \\gamma \\max_{a'} Q(s',a')]$\n",
    "* $\\epsilon$-グリーディ方策を使っても非グリーディな行動が価値関数に影響を与えない"
   ]
  },
  {
   "cell_type": "markdown",
   "metadata": {},
   "source": [
    "## 実装してみましょう\n",
    "\n",
    "### エージェントの定義\n",
    "\n",
    "価値反復と違ってエージェントを実際に動かしながら学習するので必要となる。"
   ]
  },
  {
   "cell_type": "code",
   "execution_count": 10,
   "metadata": {},
   "outputs": [],
   "source": [
    "class Agent:\n",
    "    def __init__(self):\n",
    "        self.actions = [\"up\",\"down\",\"left\",\"right\"]\n",
    "        self.cur_state = (0,0)\n",
    "        \n",
    "agent = Agent()"
   ]
  },
  {
   "cell_type": "markdown",
   "metadata": {},
   "source": [
    "### 環境の定義\n",
    "\n",
    "先週よりややこしいので状態をクラスにします。雑なので各自リファクタリングのこと。"
   ]
  },
  {
   "cell_type": "code",
   "execution_count": 11,
   "metadata": {},
   "outputs": [],
   "source": [
    "class State:\n",
    "    def __init__(self,isgoal,actions):\n",
    "        self.Q = [100.0 for e in actions]\n",
    "        self.value = 100.0\n",
    "        self.best_action = actions[0]\n",
    "        self.goal = isgoal\n",
    "\n",
    "size = 3\n",
    "states = [[State(False,agent.actions) for i in range(size)] for j in range(size)]\n",
    "states[2][2].goal = True\n",
    "states[2][2].value = 0.0"
   ]
  },
  {
   "cell_type": "code",
   "execution_count": 18,
   "metadata": {},
   "outputs": [
    {
     "data": {
      "image/png": "[encoded data removed]",
      "text/plain": [
       "<matplotlib.figure.Figure at 0x10aac0908>"
      ]
     },
     "metadata": {},
     "output_type": "display_data"
    }
   ],
   "source": [
    "import matplotlib.pyplot as plt  \n",
    "import matplotlib.patches as patches\n",
    "\n",
    "def draw(mark_pos):\n",
    "    fig, ax = plt.subplots()\n",
    "    values = [[states[i][j].value for j in range(size)] for i in range(size)]\n",
    "    mp = ax.pcolor(values, cmap=plt.cm.YlOrRd,vmin=0,vmax=8)\n",
    "    ax.set_aspect(1)\n",
    "    ax.set_xticks(range(size), minor=False)\n",
    "    ax.set_yticks(range(size), minor=False)\n",
    "    \n",
    "    for x in range(len(values)):\n",
    "        for y in range(len(values[0])):\n",
    "            plt.text(x+0.5,y+0.5,int(1000*states[x][y].value)/1000,ha = 'center', va = 'center', size=20)\n",
    "            if states[x][y].goal:\n",
    "                plt.text(x+0.75,y+0.75,\"G\",ha = 'center', va = 'center', size=20)\n",
    "                \n",
    "    plt.text(agent.cur_state[0]+0.5,agent.cur_state[0]+0.25,\"agent\",ha = 'center', va = 'center', size=20)\n",
    "    \n",
    "    if mark_pos == \"all\":   # 指定した位置にactionの文字列を書くという処理\n",
    "        for x in range(size):\n",
    "            for y in range(size):\n",
    "                plt.text(x+0.5,y+0.25,states[x][y].best_action,ha = 'center', va = 'center', size=20)\n",
    "    elif mark_pos != None: \n",
    "        s = states[mark_pos[0]][mark_pos[1]]\n",
    "        plt.text(mark_pos[0]+0.5,mark_pos[1]+0.25,s.best_action,ha = 'center', va = 'center', size=20)\n",
    "            \n",
    "    plt.show()\n",
    "    fig.clear()\n",
    "    \n",
    "draw(None)"
   ]
  },
  {
   "cell_type": "code",
   "execution_count": null,
   "metadata": {},
   "outputs": [],
   "source": [
    "def one_step():\n",
    "    pass"
   ]
  }
 ],
 "metadata": {
  "kernelspec": {
   "display_name": "Python 3",
   "language": "python",
   "name": "python3"
  },
  "language_info": {
   "codemirror_mode": {
    "name": "ipython",
    "version": 3
   },
   "file_extension": ".py",
   "mimetype": "text/x-python",
   "name": "python",
   "nbconvert_exporter": "python",
   "pygments_lexer": "ipython3",
   "version": "3.6.3"
  }
 },
 "nbformat": 4,
 "nbformat_minor": 2
}
