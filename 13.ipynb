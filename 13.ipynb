{
 "cells": [
  {
   "cell_type": "markdown",
   "metadata": {},
   "source": [
    "# 確率ロボティクス2017第13回\n",
    "\n",
    "上田隆一\n",
    "\n",
    "2017年12月6日@千葉工業大学\n",
    "\n",
    "## 今日やること\n",
    "\n",
    "* 多変量正規（ガウス）分布\n",
    "* 拡張カルマンフィルタ\n",
    "\n",
    "## 多変量正規（ガウス）分布\n",
    "\n",
    "* こういう式\n",
    "  * $p(\\boldsymbol{x}) = \\dfrac{1}{\\sqrt{(2\\pi)^n|\\Sigma|}}e^{-\\frac{1}{2}(\\boldsymbol{x} - \\boldsymbol{\\mu})^T \\Sigma^{-1} (\\boldsymbol{x} - \\boldsymbol{\\mu})}$\\par\n",
    "    $= \\dfrac{1}{\\sqrt{(2\\pi)^n|\\Sigma|}}\\exp\\left\\{-\\dfrac{1}{2}(\\boldsymbol{x} - \\boldsymbol{\\mu})^T \\Sigma^{-1} (\\boldsymbol{x} - \\boldsymbol{\\mu})\\right\\}$\n",
    "    * $n$は$\\boldsymbol{x}$の次元\n",
    "* 以後単に「ガウス分布」と呼びます  \n",
    "* 性質\n",
    "  * $\\boldsymbol{x}$の定義域で積分すると1（確率密度分布になっている）\n",
    "    * $\\boldsymbol{\\mu}$が平均値\n",
    "    * $\\Sigma$が共分散行列（正確には分散共分散行列）\n",
    "      * $\\boldsymbol{x}$が2次元の場合: $\\Sigma = \\begin{pmatrix}\\sigma_{xx},\\sigma_{xy}\\\\\\sigma_{xy}, \\sigma_{yy}\\end{pmatrix}$\n",
    "        * $\\sigma_{xx},\\sigma_{yy}$: 分散\n",
    "        * $\\sigma_{xy}$: 共分散\n",
    "  * ガウス分布同士の積もガウス分布\n",
    "    * **確率の計算のときに平均と共分散だけ気にすればよい**\n",
    "  * 多くの事象がガウス分布に従う\n",
    "    * 雑音など\n",
    "    \n",
    "    \n",
    "* $\\mathcal{N}(\\boldsymbol{\\mu},\\Sigma)$と略記"
   ]
  },
  {
   "cell_type": "markdown",
   "metadata": {},
   "source": [
    "### ガウス分布のプログラミング\n",
    "\n",
    "Pythonのライブラリを使って2次元のガウス分布の描画をしてみましょう。"
   ]
  },
  {
   "cell_type": "code",
   "execution_count": 1,
   "metadata": {},
   "outputs": [
    {
     "data": {
      "image/png": "[encoded data removed]",
      "text/plain": [
       "<matplotlib.figure.Figure at 0x10ab9f9b0>"
      ]
     },
     "metadata": {},
     "output_type": "display_data"
    }
   ],
   "source": [
    "%matplotlib inline\n",
    "import numpy as np\n",
    "import math\n",
    "import matplotlib.pyplot as plt\n",
    "import matplotlib.mlab as mlab\n",
    "\n",
    "###平均と共分散行列###\n",
    "mean = [0.0,1.0]\n",
    "cov = [[1.0,0.5],\n",
    "       [0.5,1.0]]\n",
    "\n",
    "x_axis = np.linspace(-5, 5, 100)  #-5から5まで100刻みでリストを作る\n",
    "y_axis = np.linspace(-5, 5, 100)\n",
    "X, Y = np.meshgrid(x_axis,y_axis) #x_axisとy_axisから平面上の格子を作る\n",
    "\n",
    "###bivariate_normal: 二次元のガウス分布の値を格子に対して求めるメソッド###\n",
    "Z = mlab.bivariate_normal(X, Y, # 格子の座標\n",
    "                          math.sqrt(cov[0][0]),math.sqrt(cov[1][1]),# x,yの標準偏差\n",
    "                          mean[0], mean[1], # 平均\n",
    "                          cov[0][1])            # 共分散\n",
    "\n",
    "plt.contour(X, Y, Z)\n",
    "plt.axis(\"equal\")\n",
    "plt.show()"
   ]
  },
  {
   "cell_type": "markdown",
   "metadata": {},
   "source": [
    "### 自作のガウス分布クラス"
   ]
  },
  {
   "cell_type": "code",
   "execution_count": 2,
   "metadata": {},
   "outputs": [],
   "source": [
    "from matplotlib.patches import Ellipse\n",
    "\n",
    "class Gaussian2D:\n",
    "    def __init__(self,mean,cov):\n",
    "        self.mean = mean\n",
    "        self.cov = cov\n",
    "        \n",
    "    # 値（密度）を返すメソッド\n",
    "    def value(self,x,y):\n",
    "        pos = np.array([[x],[y]])\n",
    "        delta = pos - self.mean\n",
    "        numerator = math.exp(-0.5 * (delta.T).dot(np.linalg.inv(self.cov)).dot(delta))\n",
    "        denominator = 2 * math.pi * math.sqrt(np.linalg.det(self.cov))\n",
    "        return numerator / denominator\n",
    "    \n",
    "    # ガウス分布を移動させるメソッド\n",
    "    def shift(self,delta,angle):\n",
    "        ###回転行列を作る###\n",
    "        ca = math.cos(angle)\n",
    "        sa = math.sin(angle)\n",
    "        rot = np.array([[ca,-sa],[sa,ca]])\n",
    "        \n",
    "        self.cov = rot.dot(self.cov).dot(rot.T) #共分散行列を回転行列で挟む\n",
    "        self.mean = self.mean + delta           #平均値はそのままシフト\n",
    "        \n",
    "    # 誤差楕円（ここでは単なる固有ベクトルに固有値をかけたものを長軸、短軸にした楕円）を返すメソッド\n",
    "    def ellipse(self,color=\"blue\"):\n",
    "        eig_vals,eig_vec = np.linalg.eig(self.cov)\n",
    "\n",
    "        v1 = eig_vals[0] * eig_vec[:,0]\n",
    "        v2 = eig_vals[1] * eig_vec[:,1]\n",
    "        v1_direction = math.atan2(v1[1],v1[0])\n",
    "        \n",
    "        e = Ellipse(self.mean,width=np.linalg.norm(v1),height=np.linalg.norm(v2),angle=v1_direction/math.pi*180)\n",
    "        e.set_facecolor(color)\n",
    "        e.set_alpha(0.2)\n",
    "        \n",
    "        return e"
   ]
  },
  {
   "cell_type": "code",
   "execution_count": 3,
   "metadata": {},
   "outputs": [
    {
     "data": {
      "image/png": "[encoded data removed]",
      "text/plain": [
       "<matplotlib.figure.Figure at 0x10ab9f128>"
      ]
     },
     "metadata": {},
     "output_type": "display_data"
    }
   ],
   "source": [
    "p = Gaussian2D(np.array([[1.0],[3.0]]),\n",
    "               np.array([[1.0,0.5],\n",
    "                         [0.5,1.0]]))\n",
    "\n",
    "fig = plt.figure(0)\n",
    "sp = fig.add_subplot(111, aspect='equal')\n",
    "\n",
    "plt.xlim(0,5)\n",
    "plt.ylim(0,5)\n",
    "sp.add_artist(p.ellipse())\n",
    "plt.show()"
   ]
  },
  {
   "cell_type": "code",
   "execution_count": 4,
   "metadata": {},
   "outputs": [
    {
     "data": {
      "image/png": "[encoded data removed]",
      "text/plain": [
       "<matplotlib.figure.Figure at 0x10a55c320>"
      ]
     },
     "metadata": {},
     "output_type": "display_data"
    }
   ],
   "source": [
    "p.shift(np.array([[1.0],[0.0]]),-math.pi/4.0)\n",
    "fig = plt.figure(0)\n",
    "sp = fig.add_subplot(111, aspect='equal')\n",
    "\n",
    "plt.xlim(0,5)\n",
    "plt.ylim(0,5)\n",
    "sp.add_artist(p.ellipse())\n",
    "plt.show()"
   ]
  },
  {
   "cell_type": "markdown",
   "metadata": {},
   "source": [
    "## ガウス分布同士の掛け算\n",
    "\n",
    "* ガウス分布同士の掛け算は（正規化すると）ガウス分布になる\n",
    "* ベイズの定理をガウス分布に適用すると出てくる（カルマンフィルタ）\n",
    "* 多次元だととても計算が面倒\n",
    "\n",
    "$\\mathcal{N}(\\boldsymbol{\\mu},\\Sigma) = \\mathcal{N}(\\boldsymbol{\\mu}_1,\\Sigma_1)\\mathcal{N}(\\boldsymbol{\\mu}_2,\\Sigma_2)$のとき\n",
    "  * $\\Sigma = (\\Sigma_1^{-1} + \\Sigma_2^{-1})^{-1}$\n",
    "    * $\\Sigma^{-1} = \\Sigma_1^{-1} + \\Sigma_2^{-1}$になっている\n",
    "    * 共分散行列の逆行列は精度行列や情報行列と呼ばれ、込み入った計算でよく出てくる\n",
    "  * $\\boldsymbol{\\mu} = (I-K)\\boldsymbol{\\mu}_1 + K\\boldsymbol{\\mu}_2 = (\\Sigma_1^{-1} + \\Sigma_2^{-1})^{-1}(\\Sigma_1^{-1}\\boldsymbol{\\mu}_1 + \\Sigma_2^{-1}\\boldsymbol{\\mu}_2)$\n",
    "    * ここで $K = \\Sigma \\Sigma_2^{-1}$\n",
    "    * よく見ると重み付き平均になっている"
   ]
  },
  {
   "cell_type": "markdown",
   "metadata": {},
   "source": [
    "### 掛け算の関数"
   ]
  },
  {
   "cell_type": "code",
   "execution_count": 5,
   "metadata": {},
   "outputs": [],
   "source": [
    "def multi(A,B):\n",
    "    invA = np.linalg.inv(A.cov)\n",
    "    invB = np.linalg.inv(B.cov)\n",
    "    cov = np.linalg.inv(invA + invB)\n",
    "    \n",
    "    K = cov.dot(invB)\n",
    "    mean = ( np.identity(2) - K ).dot(A.mean) + K.dot(B.mean)\n",
    "    return Gaussian2D(mean,cov)"
   ]
  },
  {
   "cell_type": "code",
   "execution_count": 6,
   "metadata": {},
   "outputs": [
    {
     "data": {
      "image/png": "[encoded data removed]",
      "text/plain": [
       "<matplotlib.figure.Figure at 0x10c2f32e8>"
      ]
     },
     "metadata": {},
     "output_type": "display_data"
    }
   ],
   "source": [
    "###使ってみましょう###\n",
    "\n",
    "p = Gaussian2D(np.array([[1.0],[3.0]]),\n",
    "               np.array([[1.0,0.5],\n",
    "                         [0.5,1.0]]))\n",
    "\n",
    "q = Gaussian2D(np.array([[4.0],[1.0]]),\n",
    "               np.array([[1.0,-0.5],\n",
    "                         [-0.5,1.0]]))\n",
    "\n",
    "r = multi(p,q)\n",
    "\n",
    "fig = plt.figure(0)\n",
    "sp = fig.add_subplot(111, aspect='equal')\n",
    "\n",
    "plt.xlim(0,5)\n",
    "plt.ylim(0,5)\n",
    "sp.add_artist(p.ellipse(\"blue\"))\n",
    "sp.add_artist(q.ellipse(\"yellow\"))\n",
    "sp.add_artist(r.ellipse(\"red\"))\n",
    "plt.show()"
   ]
  },
  {
   "cell_type": "code",
   "execution_count": 7,
   "metadata": {},
   "outputs": [
    {
     "data": {
      "image/png": "[encoded data removed]",
      "text/plain": [
       "<matplotlib.figure.Figure at 0x10c2f3198>"
      ]
     },
     "metadata": {},
     "output_type": "display_data"
    }
   ],
   "source": [
    "###使ってみましょう###\n",
    "\n",
    "p = Gaussian2D(np.array([[1.0],[3.0]]),\n",
    "               np.array([[1.0,0.5],\n",
    "                         [0.5,1.0]]))\n",
    "\n",
    "q = Gaussian2D(np.array([[1.0],[3.0]]),\n",
    "               np.array([[1.0,0.5],\n",
    "                         [0.5,1.0]])) \n",
    "\n",
    "r = multi(p,q)\n",
    "\n",
    "fig = plt.figure(0)\n",
    "sp = fig.add_subplot(111, aspect='equal')\n",
    "\n",
    "plt.xlim(0,5)\n",
    "plt.ylim(0,5)\n",
    "sp.add_artist(p.ellipse(\"blue\"))\n",
    "sp.add_artist(q.ellipse(\"yellow\"))\n",
    "sp.add_artist(r.ellipse(\"red\"))\n",
    "plt.show()"
   ]
  },
  {
   "cell_type": "markdown",
   "metadata": {},
   "source": [
    "### 既製のガウス分布\n",
    "\n",
    "scipy.statsのmultivariate_normalを使うと楽。\n",
    "\n",
    "https://docs.scipy.org/doc/scipy-0.14.0/reference/generated/scipy.stats.multivariate_normal.html"
   ]
  },
  {
   "cell_type": "code",
   "execution_count": 11,
   "metadata": {},
   "outputs": [
    {
     "data": {
      "text/plain": [
       "<matplotlib.contour.QuadContourSet at 0x10eaa0198>"
      ]
     },
     "execution_count": 11,
     "metadata": {},
     "output_type": "execute_result"
    },
    {
     "data": {
      "image/png": "[encoded data removed]",
      "text/plain": [
       "<matplotlib.figure.Figure at 0x10c315160>"
      ]
     },
     "metadata": {},
     "output_type": "display_data"
    }
   ],
   "source": [
    "from scipy.stats import multivariate_normal\n",
    "\n",
    "rv = multivariate_normal([0.5, -0.2], [[2.0, 0.3], [0.3, 0.5]])\n",
    "\n",
    "x, y = np.mgrid[-1:1:.01, -1:1:.01]\n",
    "pos = np.empty(x.shape + (2,))\n",
    "pos[:, :, 0] = x; pos[:, :, 1] = y\n",
    "plt.contourf(x, y, rv.pdf(pos))"
   ]
  },
  {
   "cell_type": "markdown",
   "metadata": {},
   "source": [
    "### ということで\n",
    "* もう一度FastSLAMのコードを読んでみましょう"
   ]
  },
  {
   "cell_type": "code",
   "execution_count": null,
   "metadata": {},
   "outputs": [],
   "source": []
  }
 ],
 "metadata": {
  "kernelspec": {
   "display_name": "Python 3",
   "language": "python",
   "name": "python3"
  },
  "language_info": {
   "codemirror_mode": {
    "name": "ipython",
    "version": 3
   },
   "file_extension": ".py",
   "mimetype": "text/x-python",
   "name": "python",
   "nbconvert_exporter": "python",
   "pygments_lexer": "ipython3",
   "version": "3.6.3"
  }
 },
 "nbformat": 4,
 "nbformat_minor": 2
}
