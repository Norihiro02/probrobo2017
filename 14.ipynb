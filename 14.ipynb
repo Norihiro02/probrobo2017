{
 "cells": [
  {
   "cell_type": "markdown",
   "metadata": {},
   "source": [
    "# 確率ロボティクス2017第14回\n",
    "\n",
    "上田隆一\n",
    "\n",
    "2017年12月20日@千葉工業大学\n",
    "\n",
    "## 今日やること\n",
    "\n",
    "* 課題2について\n",
    "* テストについて\n",
    "* graph-based SLAM\n",
    "\n"
   ]
  },
  {
   "cell_type": "markdown",
   "metadata": {},
   "source": [
    "## 課題2\n",
    "\n",
    "\n",
    "* SLAMの実装\n",
    "  * FastSLAMかgraph-based SLAMを、講義資料を参考に実装\n",
    "* 提出方法\n",
    "  * GitHubにJupyter notebookを置く\n",
    "  * 上田までURLをメール\n",
    "  * メール\n",
    "    * 件名: 確率ロボティクス2017年課題2\n",
    "    * 内容に氏名、学籍番号を書いてください\n",
    "* 期限\n",
    "  * 1/7まで\n",
    "  * 難しいのでコードを写して良いのですが、何をやっているかを考えながらじっくり取り組んでください\n",
    "\n",
    "\n",
    "## テスト\n",
    "\n",
    "* 配点60点\n",
    "    * 選択式40点\n",
    "      * 理解の正確さを見ます\n",
    "      * 講義資料から出題\n",
    "    * 記述式（小論文）20点\n",
    "      * 講義で習ったアルゴリズムを一つ説明してもらいます\n",
    "        * 何のためのアルゴリズムか\n",
    "        * どのような問題に適用されるか\n",
    "        * アルゴリズムの内容\n",
    "      * 完璧でなくても良いのでわかっていることを書きましょう"
   ]
  },
  {
   "cell_type": "markdown",
   "metadata": {},
   "source": [
    "## graph-based SLAM\n",
    "\n",
    "* ポーズ調整まで\n",
    "\n",
    "* 解説: https://github.com/ryuichiueda/commentary_on_graph-based_slam/blob/master/commentary_on_graph-based_slam.pdf\n",
    "* コード: https://github.com/ryuichiueda/probrobo_practice/blob/master/graph-based_SLAM/graph-based_slam.ipynb"
   ]
  },
  {
   "cell_type": "code",
   "execution_count": null,
   "metadata": {},
   "outputs": [],
   "source": []
  }
 ],
 "metadata": {
  "kernelspec": {
   "display_name": "Python 3",
   "language": "python",
   "name": "python3"
  },
  "language_info": {
   "codemirror_mode": {
    "name": "ipython",
    "version": 3
   },
   "file_extension": ".py",
   "mimetype": "text/x-python",
   "name": "python",
   "nbconvert_exporter": "python",
   "pygments_lexer": "ipython3",
   "version": "3.6.3"
  }
 },
 "nbformat": 4,
 "nbformat_minor": 2
}
