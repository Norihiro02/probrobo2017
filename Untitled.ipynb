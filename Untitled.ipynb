{
 "cells": [
  {
   "cell_type": "code",
   "execution_count": 1,
   "metadata": {},
   "outputs": [],
   "source": [
    "%matplotlib inline\n",
    "import numpy as np\n",
    "import math, random, copy\n",
    "import matplotlib.pyplot as plt    \n",
    "\n",
    "class Particle:\n",
    "    def __init__(self,p,w ):  #姿勢も指定できるようにしましょう\n",
    "        self.pose = np.array(p)\n",
    "        self.weight = w\n",
    "    \n",
    "    def __repr__(self):\n",
    "        return \"pose: \" + str(self.pose) + \" weight: \" + str(self.weight)"
   ]
  },
  {
   "cell_type": "code",
   "execution_count": 2,
   "metadata": {},
   "outputs": [],
   "source": [
    "particles = [Particle([1.0,0.0,0.0],0.1),  #1個目のパーティクル\n",
    "            Particle([2.0,0.0,0.0],0.2),   #2個目のパーティクル\n",
    "            Particle([3.0,0.0,0.0],0.3),   #3個目のパーティクル\n",
    "            Particle([4.0,0.0,0.0],0.4)]   #4個目のパーティクル"
   ]
  },
  {
   "cell_type": "code",
   "execution_count": 3,
   "metadata": {},
   "outputs": [
    {
     "name": "stdout",
     "output_type": "stream",
     "text": [
      "pose: [ 1.  0.  0.] weight: 0.1\n",
      "pose: [ 2.  0.  0.] weight: 0.2\n",
      "pose: [ 3.  0.  0.] weight: 0.3\n",
      "pose: [ 4.  0.  0.] weight: 0.4\n"
     ]
    }
   ],
   "source": [
    "\n",
    "for p in particles:\n",
    "    print(p)"
   ]
  },
  {
   "cell_type": "code",
   "execution_count": 4,
   "metadata": {},
   "outputs": [],
   "source": [
    "pointer = random.uniform(0.0,1.0/len(particles))"
   ]
  },
  {
   "cell_type": "code",
   "execution_count": 5,
   "metadata": {},
   "outputs": [
    {
     "name": "stdout",
     "output_type": "stream",
     "text": [
      "0.1404542956085489\n"
     ]
    }
   ],
   "source": [
    "print(pointer)"
   ]
  },
  {
   "cell_type": "code",
   "execution_count": 6,
   "metadata": {},
   "outputs": [
    {
     "name": "stdout",
     "output_type": "stream",
     "text": [
      "[0.1, 0.30000000000000004, 0.6000000000000001, 1.0]\n"
     ]
    }
   ],
   "source": [
    "accum = []\n",
    "sm = 0.0\n",
    "for p in particles:\n",
    "    accum.append(p.weight + sm)\n",
    "    sm += p.weight\n",
    "    \n",
    "print(accum)\n",
    "\n",
    "new_particles = []\n",
    "particles_num = len(particles)\n",
    "\n",
    "while pointer < 1.0:\n",
    "    if accum[0] >= pointer:\n",
    "        new_particles.append(\n",
    "            Particle(copy.deepcopy(particles[0].pose),1.0/particles_num)\n",
    "        )\n",
    "        pointer += 1.0/particles_num\n",
    "    else:\n",
    "        accum.pop(0)\n",
    "        particles.pop(0)"
   ]
  },
  {
   "cell_type": "code",
   "execution_count": 7,
   "metadata": {},
   "outputs": [
    {
     "name": "stdout",
     "output_type": "stream",
     "text": [
      "pose: [ 2.  0.  0.] weight: 0.25\n",
      "pose: [ 3.  0.  0.] weight: 0.25\n",
      "pose: [ 4.  0.  0.] weight: 0.25\n",
      "pose: [ 4.  0.  0.] weight: 0.25\n"
     ]
    }
   ],
   "source": [
    "particles = new_particles\n",
    "\n",
    "for p in particles:\n",
    "    print(p)"
   ]
  },
  {
   "cell_type": "code",
   "execution_count": null,
   "metadata": {},
   "outputs": [],
   "source": []
  },
  {
   "cell_type": "code",
   "execution_count": null,
   "metadata": {},
   "outputs": [],
   "source": []
  }
 ],
 "metadata": {
  "kernelspec": {
   "display_name": "Python 3",
   "language": "python",
   "name": "python3"
  },
  "language_info": {
   "codemirror_mode": {
    "name": "ipython",
    "version": 3
   },
   "file_extension": ".py",
   "mimetype": "text/x-python",
   "name": "python",
   "nbconvert_exporter": "python",
   "pygments_lexer": "ipython3",
   "version": "3.6.3"
  }
 },
 "nbformat": 4,
 "nbformat_minor": 2
}
