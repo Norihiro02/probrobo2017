{
 "cells": [
  {
   "cell_type": "code",
   "execution_count": 4,
   "metadata": {},
   "outputs": [],
   "source": [
    "from sympy import *\n",
    "import math\n",
    "init_printing()"
   ]
  },
  {
   "cell_type": "code",
   "execution_count": 6,
   "metadata": {},
   "outputs": [],
   "source": []
  },
  {
   "cell_type": "code",
   "execution_count": 9,
   "metadata": {},
   "outputs": [
    {
     "data": {
      "image/png": "[encoded data removed]",
      "text/latex": [
       "$$\\frac{3 \\pi}{2} + \\frac{e^{i x}}{x^{2} + y}$$"
      ],
      "text/plain": [
       "        ⅈ⋅x \n",
       "3⋅π    ℯ    \n",
       "─── + ──────\n",
       " 2     2    \n",
       "      x  + y"
      ]
     },
     "execution_count": 9,
     "metadata": {},
     "output_type": "execute_result"
    }
   ],
   "source": [
    "Rational(3 ,2)*pi + exp(I*x) / (x**2 + y)"
   ]
  },
  {
   "cell_type": "code",
   "execution_count": 52,
   "metadata": {},
   "outputs": [],
   "source": [
    "delta_xx1, delta_xy1, delta_yy1 = symbols('delta_xx1 delta_xy1 delta_yy1')\n",
    "Sigma_1 = Matrix([[delta_xx1,delta_xy1],[delta_xy1,delta_yy1]])"
   ]
  },
  {
   "cell_type": "code",
   "execution_count": 54,
   "metadata": {},
   "outputs": [
    {
     "data": {
      "image/png": "[encoded data removed]",
      "text/latex": [
       "$$\\left[\\begin{matrix}\\delta_{xx1} & \\delta_{xy1}\\\\\\delta_{xy1} & \\delta_{yy1}\\end{matrix}\\right]$$"
      ],
      "text/plain": [
       "⎡δₓₓ₁   δ_xy1⎤\n",
       "⎢            ⎥\n",
       "⎣δ_xy1  δ_yy1⎦"
      ]
     },
     "execution_count": 54,
     "metadata": {},
     "output_type": "execute_result"
    }
   ],
   "source": [
    "Sigma_1"
   ]
  },
  {
   "cell_type": "code",
   "execution_count": 48,
   "metadata": {},
   "outputs": [],
   "source": [
    "N = det(Sigma)"
   ]
  },
  {
   "cell_type": "code",
   "execution_count": 57,
   "metadata": {},
   "outputs": [],
   "source": [
    "A = FiniteSet(1,2,3,4)"
   ]
  },
  {
   "cell_type": "code",
   "execution_count": 58,
   "metadata": {},
   "outputs": [
    {
     "data": {
      "image/png": "[encoded data removed]",
      "text/latex": [
       "$$\\left\\{1, 2, 3, 4\\right\\}$$"
      ],
      "text/plain": [
       "{1, 2, 3, 4}"
      ]
     },
     "execution_count": 58,
     "metadata": {},
     "output_type": "execute_result"
    }
   ],
   "source": [
    "A "
   ]
  },
  {
   "cell_type": "code",
   "execution_count": null,
   "metadata": {},
   "outputs": [],
   "source": []
  }
 ],
 "metadata": {
  "kernelspec": {
   "display_name": "Python 3",
   "language": "python",
   "name": "python3"
  },
  "language_info": {
   "codemirror_mode": {
    "name": "ipython",
    "version": 3
   },
   "file_extension": ".py",
   "mimetype": "text/x-python",
   "name": "python",
   "nbconvert_exporter": "python",
   "pygments_lexer": "ipython3",
   "version": "3.5.2"
  }
 },
 "nbformat": 4,
 "nbformat_minor": 2
}
