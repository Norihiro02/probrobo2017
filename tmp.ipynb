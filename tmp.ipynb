{
 "cells": [
  {
   "cell_type": "code",
   "execution_count": 7,
   "metadata": {},
   "outputs": [
    {
     "data": {
      "image/png": "[encoded data removed]",
      "text/plain": [
       "<matplotlib.figure.Figure at 0x1030ed240>"
      ]
     },
     "metadata": {},
     "output_type": "display_data"
    }
   ],
   "source": [
    "%matplotlib inline\n",
    "import numpy as np\n",
    "from copy import copy\n",
    "import math, random\n",
    "import matplotlib.pyplot as plt                   #   for plotting data\n",
    "from matplotlib.patches import Ellipse      #  for drawing\n",
    "\n",
    "actual_landmarks = [np.array([-0.5,0.0]),np.array([0.5,0.0]),np.array([0.0,0.5])]\n",
    "\n",
    "def draw_landmarks(landmarks):\n",
    "    xs = [ e[0] for e in actual_landmarks ]\n",
    "    ys = [ e[1] for e in actual_landmarks ]\n",
    "    \n",
    "    plt.scatter(xs,ys,s=300,marker=\"*\",label=\"landmarks\",color=\"orange\")\n",
    "    \n",
    "draw_landmarks(actual_landmarks)"
   ]
  },
  {
   "cell_type": "code",
   "execution_count": 9,
   "metadata": {
    "collapsed": true
   },
   "outputs": [],
   "source": [
    "actual_x = np.array([0.2,0.3,math.pi*200.0/180])   #ロボットの実際の姿勢\n",
    "\n",
    "def draw_robot(pose):\n",
    "    plt.quiver([pose[0]],[pose[1]],[math.cos(pose[2])],[math.sin(pose[2])],color=\"red\",label=\"actual robot motion\")"
   ]
  },
  {
   "cell_type": "code",
   "execution_count": 10,
   "metadata": {},
   "outputs": [
    {
     "data": {
      "image/png": "[encoded data removed]",
      "text/plain": [
       "<matplotlib.figure.Figure at 0x1045dd5c0>"
      ]
     },
     "metadata": {},
     "output_type": "display_data"
    }
   ],
   "source": [
    "draw_robot(actual_x)\n",
    "draw_landmarks(actual_landmarks)"
   ]
  },
  {
   "cell_type": "code",
   "execution_count": 18,
   "metadata": {
    "collapsed": true
   },
   "outputs": [],
   "source": [
    "def relative_landmark_pos(pose,landmark):\n",
    "    x,y,theta = pose\n",
    "    lx,ly = landmark\n",
    "    \n",
    "    distance = math.sqrt((lx - x)**2 + (ly - y)**2)\n",
    "    direction = math.atan2(ly - y, lx - x) - theta\n",
    "    \n",
    "    return distance, direction, lx, ly"
   ]
  },
  {
   "cell_type": "code",
   "execution_count": 19,
   "metadata": {
    "collapsed": true
   },
   "outputs": [],
   "source": [
    "measurements = [ relative_landmark_pos(actual_x, ln) for ln in actual_landmarks ]"
   ]
  },
  {
   "cell_type": "code",
   "execution_count": 20,
   "metadata": {},
   "outputs": [
    {
     "name": "stdout",
     "output_type": "stream",
     "text": [
      "[(0.7615773105863908, -6.2273593712933693, -0.5, 0.0), (0.4242640687119285, -4.2760566673861078, 0.5, 0.0), (0.28284271247461906, -1.1344640137963142, 0.0, 0.5)]\n"
     ]
    }
   ],
   "source": [
    "print(measurements)"
   ]
  },
  {
   "cell_type": "code",
   "execution_count": 21,
   "metadata": {
    "collapsed": true
   },
   "outputs": [],
   "source": [
    "def draw_observation(pose, measurement):\n",
    "    x,y,theta = pose\n",
    "    mdistance, mdirection,tmp_x,tmp_y = measurement\n",
    "    \n",
    "    lx = x + mdistance * math.cos(theta + mdirection)\n",
    "    ly = y + mdistance * math.sin(theta + mdirection)\n",
    "    \n",
    "    plt.plot([pose[0],  lx],[pose[1],  ly],color=\"pink\")\n",
    "    \n",
    "def draw_observations(pose, measurements):\n",
    "    for m in measurements:\n",
    "        draw_observation(pose,m)"
   ]
  },
  {
   "cell_type": "code",
   "execution_count": 22,
   "metadata": {},
   "outputs": [
    {
     "data": {
      "image/png": "[encoded data removed]",
      "text/plain": [
       "<matplotlib.figure.Figure at 0x1048223c8>"
      ]
     },
     "metadata": {},
     "output_type": "display_data"
    }
   ],
   "source": [
    "draw_robot(actual_x)\n",
    "draw_landmarks(actual_landmarks)\n",
    "draw_observations(actual_x, measurements)"
   ]
  },
  {
   "cell_type": "code",
   "execution_count": null,
   "metadata": {
    "collapsed": true
   },
   "outputs": [],
   "source": []
  }
 ],
 "metadata": {
  "kernelspec": {
   "display_name": "Python 3",
   "language": "python",
   "name": "python3"
  },
  "language_info": {
   "codemirror_mode": {
    "name": "ipython",
    "version": 3
   },
   "file_extension": ".py",
   "mimetype": "text/x-python",
   "name": "python",
   "nbconvert_exporter": "python",
   "pygments_lexer": "ipython3",
   "version": "3.6.1"
  }
 },
 "nbformat": 4,
 "nbformat_minor": 2
}
